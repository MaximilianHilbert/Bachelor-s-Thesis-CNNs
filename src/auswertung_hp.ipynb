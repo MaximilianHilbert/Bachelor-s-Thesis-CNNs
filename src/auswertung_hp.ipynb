{
 "cells": [
  {
   "cell_type": "code",
   "execution_count": 16,
   "metadata": {},
   "outputs": [],
   "source": [
    "import os\n",
    "import pandas as pd\n",
    "import matplotlib.pyplot as plt\n",
    "import re\n",
    "import numpy as np"
   ]
  },
  {
   "cell_type": "code",
   "execution_count": 21,
   "metadata": {},
   "outputs": [
    {
     "data": {
      "text/html": [
       "<div>\n",
       "<style scoped>\n",
       "    .dataframe tbody tr th:only-of-type {\n",
       "        vertical-align: middle;\n",
       "    }\n",
       "\n",
       "    .dataframe tbody tr th {\n",
       "        vertical-align: top;\n",
       "    }\n",
       "\n",
       "    .dataframe thead th {\n",
       "        text-align: right;\n",
       "    }\n",
       "</style>\n",
       "<table border=\"1\" class=\"dataframe\">\n",
       "  <thead>\n",
       "    <tr style=\"text-align: right;\">\n",
       "      <th></th>\n",
       "      <th>values</th>\n",
       "    </tr>\n",
       "  </thead>\n",
       "  <tbody>\n",
       "    <tr>\n",
       "      <th>0.00</th>\n",
       "      <td>[[[209.83828016226303, 389.2525977345264, 288....</td>\n",
       "    </tr>\n",
       "    <tr>\n",
       "      <th>0.05</th>\n",
       "      <td>[[[281.81151405549474, 240.1495572528927, 193....</td>\n",
       "    </tr>\n",
       "    <tr>\n",
       "      <th>0.10</th>\n",
       "      <td>[[[210.85569716895796, 303.1869226298307, 288....</td>\n",
       "    </tr>\n",
       "    <tr>\n",
       "      <th>0.15</th>\n",
       "      <td>[[[210.85569716895796, 303.1869226298307, 288....</td>\n",
       "    </tr>\n",
       "    <tr>\n",
       "      <th>0.20</th>\n",
       "      <td>[[[92.25543968504795, 20.39396974629522, 5.570...</td>\n",
       "    </tr>\n",
       "    <tr>\n",
       "      <th>0.25</th>\n",
       "      <td>[[[92.25543968504795, 20.39396974629522, 5.570...</td>\n",
       "    </tr>\n",
       "    <tr>\n",
       "      <th>0.30</th>\n",
       "      <td>[[[59.23615846163344, 181.2346332609464, 10.57...</td>\n",
       "    </tr>\n",
       "    <tr>\n",
       "      <th>0.35</th>\n",
       "      <td>[[[59.23615846163344, 181.2346332609464, 10.57...</td>\n",
       "    </tr>\n",
       "    <tr>\n",
       "      <th>0.40</th>\n",
       "      <td>[[[316.4292843477992, 406.1226821799888, 115.4...</td>\n",
       "    </tr>\n",
       "    <tr>\n",
       "      <th>0.45</th>\n",
       "      <td>[[[316.4292843477992, 406.1226821799888, 115.4...</td>\n",
       "    </tr>\n",
       "    <tr>\n",
       "      <th>0.50</th>\n",
       "      <td>[[[345.48521031970165, 404.6120927520369, 274....</td>\n",
       "    </tr>\n",
       "    <tr>\n",
       "      <th>0.55</th>\n",
       "      <td>[[[343.4034483875694, 414.19044813404105, 205....</td>\n",
       "    </tr>\n",
       "    <tr>\n",
       "      <th>0.60</th>\n",
       "      <td>[[[471.5530292980797, 486.94474005903635, 287....</td>\n",
       "    </tr>\n",
       "    <tr>\n",
       "      <th>0.65</th>\n",
       "      <td>[[[534.6414532187604, 544.0717473375662, 414.2...</td>\n",
       "    </tr>\n",
       "    <tr>\n",
       "      <th>0.70</th>\n",
       "      <td>[[[398.3814871636894, 436.734257698005, 225.06...</td>\n",
       "    </tr>\n",
       "    <tr>\n",
       "      <th>0.75</th>\n",
       "      <td>[[[517.6363676637335, 573.2965517091473, 461.6...</td>\n",
       "    </tr>\n",
       "    <tr>\n",
       "      <th>0.80</th>\n",
       "      <td>[[[521.1016914590297, 543.3671435439913, 438.5...</td>\n",
       "    </tr>\n",
       "    <tr>\n",
       "      <th>0.85</th>\n",
       "      <td>[[[521.1016914590297, 543.3671435439913, 438.5...</td>\n",
       "    </tr>\n",
       "    <tr>\n",
       "      <th>0.90</th>\n",
       "      <td>[[[478.2782964595552, 446.817371344965, 309.88...</td>\n",
       "    </tr>\n",
       "    <tr>\n",
       "      <th>0.95</th>\n",
       "      <td>[[[476.06125827119587, 482.559753956989, 324.3...</td>\n",
       "    </tr>\n",
       "  </tbody>\n",
       "</table>\n",
       "</div>"
      ],
      "text/plain": [
       "                                                 values\n",
       "0.00  [[[209.83828016226303, 389.2525977345264, 288....\n",
       "0.05  [[[281.81151405549474, 240.1495572528927, 193....\n",
       "0.10  [[[210.85569716895796, 303.1869226298307, 288....\n",
       "0.15  [[[210.85569716895796, 303.1869226298307, 288....\n",
       "0.20  [[[92.25543968504795, 20.39396974629522, 5.570...\n",
       "0.25  [[[92.25543968504795, 20.39396974629522, 5.570...\n",
       "0.30  [[[59.23615846163344, 181.2346332609464, 10.57...\n",
       "0.35  [[[59.23615846163344, 181.2346332609464, 10.57...\n",
       "0.40  [[[316.4292843477992, 406.1226821799888, 115.4...\n",
       "0.45  [[[316.4292843477992, 406.1226821799888, 115.4...\n",
       "0.50  [[[345.48521031970165, 404.6120927520369, 274....\n",
       "0.55  [[[343.4034483875694, 414.19044813404105, 205....\n",
       "0.60  [[[471.5530292980797, 486.94474005903635, 287....\n",
       "0.65  [[[534.6414532187604, 544.0717473375662, 414.2...\n",
       "0.70  [[[398.3814871636894, 436.734257698005, 225.06...\n",
       "0.75  [[[517.6363676637335, 573.2965517091473, 461.6...\n",
       "0.80  [[[521.1016914590297, 543.3671435439913, 438.5...\n",
       "0.85  [[[521.1016914590297, 543.3671435439913, 438.5...\n",
       "0.90  [[[478.2782964595552, 446.817371344965, 309.88...\n",
       "0.95  [[[476.06125827119587, 482.559753956989, 324.3..."
      ]
     },
     "execution_count": 21,
     "metadata": {},
     "output_type": "execute_result"
    }
   ],
   "source": [
    "path=\"evaluation_errors/current_state\"\n",
    "full_lst=os.listdir(path)\n",
    "log_error_lst=[]\n",
    "noise_levels=[np.round(x, 2) for x in np.arange(0, 1.0, 1.0/20)]\n",
    "noise_df=pd.DataFrame(columns=[\"exp\", \"synth\"], index=noise_levels)\n",
    "\n",
    "absolute_df=pd.DataFrame(columns=[\"values\"], index=noise_levels)\n",
    "data_lst=[]\n",
    "for case in [\"exp\", \"synth\"]:\n",
    "    for noise_level in noise_levels:\n",
    "        log_error_lst=[]\n",
    "        absolute_error_array_th=[]\n",
    "        absolute_error_array_rh=[]\n",
    "        absolute_error_array_sld=[]\n",
    "        for filename in full_lst:\n",
    "            noise_matches=re.findall(f\".*\\_({noise_level}).*_mse_errors_{case}.csv$\", filename)\n",
    "            \n",
    "            if case==\"exp\":\n",
    "                absolute_matches_th=re.findall(f\".*\\_({noise_level}).*\\_th.csv$\", filename)\n",
    "                absolute_matches_rh=re.findall(f\".*\\_({noise_level}).*\\_rh.csv$\", filename)\n",
    "                absolute_matches_sld=re.findall(f\".*\\_({noise_level}).*\\_sld.csv$\", filename)\n",
    "                if absolute_matches_th:\n",
    "                    absolute_error_array_th.append(np.loadtxt(os.path.join(path, f\"{filename}\")))\n",
    "                if absolute_matches_rh:\n",
    "                    absolute_error_array_rh.append(np.loadtxt(os.path.join(path, f\"{filename}\")))\n",
    "                if absolute_matches_sld:\n",
    "                    absolute_error_array_sld.append(np.loadtxt(os.path.join(path, f\"{filename}\")))\n",
    "            if noise_matches:\n",
    "                log_error_lst.append(np.loadtxt(os.path.join(path, f\"{filename}\")))\n",
    "        noise_df.loc[noise_level, case]=log_error_lst\n",
    "        if case==\"exp\":\n",
    "            \n",
    "            absolute_df.loc[noise_level, \"values\"]=[absolute_error_array_th, absolute_error_array_rh, absolute_error_array_sld]\n",
    "        \n",
    "absolute_df"
   ]
  },
  {
   "cell_type": "code",
   "execution_count": 22,
   "metadata": {},
   "outputs": [
    {
     "data": {
      "image/png": "[encoded data removed]",
      "text/plain": [
       "<Figure size 432x288 with 1 Axes>"
      ]
     },
     "metadata": {
      "needs_background": "light"
     },
     "output_type": "display_data"
    },
    {
     "data": {
      "image/png": "[encoded data removed]",
      "text/plain": [
       "<Figure size 432x288 with 1 Axes>"
      ]
     },
     "metadata": {
      "needs_background": "light"
     },
     "output_type": "display_data"
    },
    {
     "data": {
      "image/png": "[encoded data removed]",
      "text/plain": [
       "<Figure size 432x288 with 1 Axes>"
      ]
     },
     "metadata": {
      "needs_background": "light"
     },
     "output_type": "display_data"
    },
    {
     "data": {
      "image/png": "[encoded data removed]",
      "text/plain": [
       "<Figure size 432x288 with 1 Axes>"
      ]
     },
     "metadata": {
      "needs_background": "light"
     },
     "output_type": "display_data"
    }
   ],
   "source": [
    "prev_value = 1\n",
    "name = \"\"\n",
    "fig, ax = plt.subplots(1)\n",
    "for case, color in zip([\"exp\", \"synth\"], [\"blue\", \"red\"]):\n",
    "    for noise_level in noise_levels:\n",
    "        ax.errorbar(noise_level, np.mean(np.array(noise_df.loc[noise_level, case])), np.std(np.array(noise_df.loc[noise_level, case])), fmt='o', markersize=8, capsize=5, color=color)\n",
    "for param_idx, param in enumerate([\"th\", \"rh\", \"sld\"]):\n",
    "    fig, ax = plt.subplots(1)\n",
    "    for noise_level in noise_levels:\n",
    "        ax.errorbar(noise_level, np.mean(np.array(absolute_df.loc[noise_level, \"values\"][param_idx])), np.std(np.array(absolute_df.loc[noise_level, \"values\"][param_idx])), fmt='o', markersize=8, capsize=5, color=color)\n",
    "# noise_dict\n",
    "# for file in log_error_lst:\n",
    "#     noise = re.findall(\"0\\.\\d\", file)[-1]\n",
    "#     print(noise)\n",
    "#     data = pd.read_csv(f\"evaluation_log_noise/{file}\")\n",
    "#     print(data)\n",
    "#     data_mean = data.values.mean()\n",
    "#     data_std = data.values.std()\n",
    "#     print(data_std)\n",
    "#     ax.errorbar(float(noise), data_mean, data_std,\n",
    "#                 fmt='o', markersize=8, capsize=5)\n"
   ]
  },
  {
   "cell_type": "code",
   "execution_count": null,
   "metadata": {},
   "outputs": [],
   "source": []
  },
  {
   "cell_type": "code",
   "execution_count": null,
   "metadata": {},
   "outputs": [],
   "source": []
  }
 ],
 "metadata": {
  "kernelspec": {
   "display_name": "Python 3.6.13 ('bachelor')",
   "language": "python",
   "name": "python3"
  },
  "language_info": {
   "codemirror_mode": {
    "name": "ipython",
    "version": 3
   },
   "file_extension": ".py",
   "mimetype": "text/x-python",
   "name": "python",
   "nbconvert_exporter": "python",
   "pygments_lexer": "ipython3",
   "version": "3.6.13"
  },
  "orig_nbformat": 4,
  "vscode": {
   "interpreter": {
    "hash": "d7b3da7fbef978ad2cbc656fd74e8ded9a6b3d58d9033a949abd3fa554b044bd"
   }
  }
 },
 "nbformat": 4,
 "nbformat_minor": 2
}
