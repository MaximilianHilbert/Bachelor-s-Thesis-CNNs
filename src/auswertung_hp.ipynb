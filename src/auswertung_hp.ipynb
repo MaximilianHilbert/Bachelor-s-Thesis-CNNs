{
 "cells": [
  {
   "cell_type": "code",
   "execution_count": 41,
   "metadata": {},
   "outputs": [],
   "source": [
    "import os\n",
    "import pandas as pd\n",
    "import matplotlib.pyplot as plt\n",
    "import re\n",
    "import numpy as np"
   ]
  },
  {
   "cell_type": "code",
   "execution_count": 42,
   "metadata": {},
   "outputs": [
    {
     "data": {
      "text/html": [
       "<div>\n",
       "<style scoped>\n",
       "    .dataframe tbody tr th:only-of-type {\n",
       "        vertical-align: middle;\n",
       "    }\n",
       "\n",
       "    .dataframe tbody tr th {\n",
       "        vertical-align: top;\n",
       "    }\n",
       "\n",
       "    .dataframe thead th {\n",
       "        text-align: right;\n",
       "    }\n",
       "</style>\n",
       "<table border=\"1\" class=\"dataframe\">\n",
       "  <thead>\n",
       "    <tr style=\"text-align: right;\">\n",
       "      <th></th>\n",
       "      <th>values</th>\n",
       "    </tr>\n",
       "  </thead>\n",
       "  <tbody>\n",
       "    <tr>\n",
       "      <th>0.00</th>\n",
       "      <td>[[[199.70184971389025, 295.52110370731174, 191...</td>\n",
       "    </tr>\n",
       "    <tr>\n",
       "      <th>0.05</th>\n",
       "      <td>[[[344.5075423014006, 457.5320162253793, 352.5...</td>\n",
       "    </tr>\n",
       "    <tr>\n",
       "      <th>0.10</th>\n",
       "      <td>[[[266.54145426187023, 237.83132902721383, 333...</td>\n",
       "    </tr>\n",
       "    <tr>\n",
       "      <th>0.15</th>\n",
       "      <td>[[[145.54801790299408, 205.27283399208176, 138...</td>\n",
       "    </tr>\n",
       "    <tr>\n",
       "      <th>0.20</th>\n",
       "      <td>[[[127.16783839362213, 74.11995076692097, 1.08...</td>\n",
       "    </tr>\n",
       "    <tr>\n",
       "      <th>0.25</th>\n",
       "      <td>[[[80.33640593640169, 41.68510504357078, 94.32...</td>\n",
       "    </tr>\n",
       "    <tr>\n",
       "      <th>0.30</th>\n",
       "      <td>[[[4.029418021349582, 107.97472680544797, 126....</td>\n",
       "    </tr>\n",
       "    <tr>\n",
       "      <th>0.35</th>\n",
       "      <td>[[[121.71773214699564, 228.6727492671256, 44.8...</td>\n",
       "    </tr>\n",
       "    <tr>\n",
       "      <th>0.40</th>\n",
       "      <td>[[[271.7077815341554, 377.6365860878885, 75.74...</td>\n",
       "    </tr>\n",
       "    <tr>\n",
       "      <th>0.45</th>\n",
       "      <td>[[[271.7077815341554, 377.6365860878885, 75.74...</td>\n",
       "    </tr>\n",
       "    <tr>\n",
       "      <th>0.50</th>\n",
       "      <td>[[[430.21011514653867, 455.96963985712586, 245...</td>\n",
       "    </tr>\n",
       "    <tr>\n",
       "      <th>0.55</th>\n",
       "      <td>[[[430.21011514653867, 455.96963985712586, 245...</td>\n",
       "    </tr>\n",
       "    <tr>\n",
       "      <th>0.60</th>\n",
       "      <td>[[[471.6484857812944, 515.9436067782405, 288.6...</td>\n",
       "    </tr>\n",
       "    <tr>\n",
       "      <th>0.65</th>\n",
       "      <td>[[[434.357536651764, 519.0584085674002, 307.07...</td>\n",
       "    </tr>\n",
       "    <tr>\n",
       "      <th>0.70</th>\n",
       "      <td>[[[525.8148293443679, 517.115070523647, 371.43...</td>\n",
       "    </tr>\n",
       "    <tr>\n",
       "      <th>0.75</th>\n",
       "      <td>[[[525.8148293443679, 517.115070523647, 371.43...</td>\n",
       "    </tr>\n",
       "    <tr>\n",
       "      <th>0.80</th>\n",
       "      <td>[[[546.0357971238841, 551.5678932459788, 429.4...</td>\n",
       "    </tr>\n",
       "    <tr>\n",
       "      <th>0.85</th>\n",
       "      <td>[[[546.0357971238841, 551.5678932459788, 429.4...</td>\n",
       "    </tr>\n",
       "    <tr>\n",
       "      <th>0.90</th>\n",
       "      <td>[[[457.2798475548885, 473.9817039709822, 322.6...</td>\n",
       "    </tr>\n",
       "    <tr>\n",
       "      <th>0.95</th>\n",
       "      <td>[[[457.2798475548885, 473.9817039709822, 322.6...</td>\n",
       "    </tr>\n",
       "  </tbody>\n",
       "</table>\n",
       "</div>"
      ],
      "text/plain": [
       "                                                 values\n",
       "0.00  [[[199.70184971389025, 295.52110370731174, 191...\n",
       "0.05  [[[344.5075423014006, 457.5320162253793, 352.5...\n",
       "0.10  [[[266.54145426187023, 237.83132902721383, 333...\n",
       "0.15  [[[145.54801790299408, 205.27283399208176, 138...\n",
       "0.20  [[[127.16783839362213, 74.11995076692097, 1.08...\n",
       "0.25  [[[80.33640593640169, 41.68510504357078, 94.32...\n",
       "0.30  [[[4.029418021349582, 107.97472680544797, 126....\n",
       "0.35  [[[121.71773214699564, 228.6727492671256, 44.8...\n",
       "0.40  [[[271.7077815341554, 377.6365860878885, 75.74...\n",
       "0.45  [[[271.7077815341554, 377.6365860878885, 75.74...\n",
       "0.50  [[[430.21011514653867, 455.96963985712586, 245...\n",
       "0.55  [[[430.21011514653867, 455.96963985712586, 245...\n",
       "0.60  [[[471.6484857812944, 515.9436067782405, 288.6...\n",
       "0.65  [[[434.357536651764, 519.0584085674002, 307.07...\n",
       "0.70  [[[525.8148293443679, 517.115070523647, 371.43...\n",
       "0.75  [[[525.8148293443679, 517.115070523647, 371.43...\n",
       "0.80  [[[546.0357971238841, 551.5678932459788, 429.4...\n",
       "0.85  [[[546.0357971238841, 551.5678932459788, 429.4...\n",
       "0.90  [[[457.2798475548885, 473.9817039709822, 322.6...\n",
       "0.95  [[[457.2798475548885, 473.9817039709822, 322.6..."
      ]
     },
     "execution_count": 42,
     "metadata": {},
     "output_type": "execute_result"
    }
   ],
   "source": [
    "full_lst=os.listdir(\"evaluation_errors\")\n",
    "log_error_lst=[]\n",
    "noise_levels=[np.round(x, 2) for x in np.arange(0, 1.0, 1.0/20)]\n",
    "noise_df=pd.DataFrame(columns=[\"exp\", \"synth\"], index=noise_levels)\n",
    "\n",
    "absolute_df=pd.DataFrame(columns=[\"values\"], index=noise_levels)\n",
    "data_lst=[]\n",
    "for case in [\"exp\", \"synth\"]:\n",
    "    for noise_level in noise_levels:\n",
    "        log_error_lst=[]\n",
    "        absolute_error_array_th=[]\n",
    "        absolute_error_array_rh=[]\n",
    "        absolute_error_array_sld=[]\n",
    "        for filename in full_lst:\n",
    "            noise_matches=re.findall(f\".*\\_({noise_level}).*_logerror_{case}.csv$\", filename)\n",
    "            if case==\"exp\":\n",
    "                absolute_matches_th=re.findall(f\".*\\_({noise_level}).*\\_th.csv$\", filename)\n",
    "                absolute_matches_rh=re.findall(f\".*\\_({noise_level}).*\\_rh.csv$\", filename)\n",
    "                absolute_matches_sld=re.findall(f\".*\\_({noise_level}).*\\_sld.csv$\", filename)\n",
    "                if absolute_matches_th:\n",
    "                    absolute_error_array_th.append(np.loadtxt(f\"evaluation_errors/{filename}\"))\n",
    "                if absolute_matches_rh:\n",
    "                    absolute_error_array_rh.append(np.loadtxt(f\"evaluation_errors/{filename}\"))\n",
    "                if absolute_matches_sld:\n",
    "                    absolute_error_array_sld.append(np.loadtxt(f\"evaluation_errors/{filename}\"))\n",
    "            if noise_matches:\n",
    "                log_error_lst.append(np.loadtxt(f\"evaluation_errors/{filename}\"))\n",
    "        noise_df.loc[noise_level, case]=log_error_lst\n",
    "        if case==\"exp\":\n",
    "            \n",
    "            absolute_df.loc[noise_level, \"values\"]=[absolute_error_array_th, absolute_error_array_rh, absolute_error_array_sld]\n",
    "        \n",
    "absolute_df"
   ]
  },
  {
   "cell_type": "code",
   "execution_count": 43,
   "metadata": {},
   "outputs": [
    {
     "name": "stderr",
     "output_type": "stream",
     "text": [
      "/home/maximilian/anaconda3/envs/bachelor/lib/python3.6/site-packages/numpy/core/_asarray.py:83: UserWarning: Warning: converting a masked element to nan.\n",
      "  return array(a, dtype, copy=False, order=order)\n"
     ]
    },
    {
     "data": {
      "image/png": "[encoded data removed]",
      "text/plain": [
       "<Figure size 432x288 with 1 Axes>"
      ]
     },
     "metadata": {
      "needs_background": "light"
     },
     "output_type": "display_data"
    },
    {
     "data": {
      "image/png": "[encoded data removed]",
      "text/plain": [
       "<Figure size 432x288 with 1 Axes>"
      ]
     },
     "metadata": {
      "needs_background": "light"
     },
     "output_type": "display_data"
    },
    {
     "data": {
      "image/png": "[encoded data removed]",
      "text/plain": [
       "<Figure size 432x288 with 1 Axes>"
      ]
     },
     "metadata": {
      "needs_background": "light"
     },
     "output_type": "display_data"
    },
    {
     "data": {
      "image/png": "[encoded data removed]",
      "text/plain": [
       "<Figure size 432x288 with 1 Axes>"
      ]
     },
     "metadata": {
      "needs_background": "light"
     },
     "output_type": "display_data"
    }
   ],
   "source": [
    "prev_value = 1\n",
    "name = \"\"\n",
    "fig, ax = plt.subplots(1)\n",
    "for case, color in zip([\"exp\", \"synth\"], [\"blue\", \"red\"]):\n",
    "    for noise_level in noise_levels:\n",
    "        ax.errorbar(noise_level, np.mean(np.array(noise_df.loc[noise_level, case])), np.std(np.array(noise_df.loc[noise_level, case])), fmt='o', markersize=8, capsize=5, color=color)\n",
    "for param_idx, param in enumerate([\"th\", \"rh\", \"sld\"]):\n",
    "    fig, ax = plt.subplots(1)\n",
    "    for noise_level in noise_levels:\n",
    "        ax.errorbar(noise_level, np.mean(np.array(absolute_df.loc[noise_level, \"values\"][param_idx])), np.std(np.array(absolute_df.loc[noise_level, \"values\"][param_idx])), fmt='o', markersize=8, capsize=5, color=color)\n",
    "# noise_dict\n",
    "# for file in log_error_lst:\n",
    "#     noise = re.findall(\"0\\.\\d\", file)[-1]\n",
    "#     print(noise)\n",
    "#     data = pd.read_csv(f\"evaluation_log_noise/{file}\")\n",
    "#     print(data)\n",
    "#     data_mean = data.values.mean()\n",
    "#     data_std = data.values.std()\n",
    "#     print(data_std)\n",
    "#     ax.errorbar(float(noise), data_mean, data_std,\n",
    "#                 fmt='o', markersize=8, capsize=5)\n"
   ]
  },
  {
   "cell_type": "code",
   "execution_count": null,
   "metadata": {},
   "outputs": [],
   "source": []
  },
  {
   "cell_type": "code",
   "execution_count": null,
   "metadata": {},
   "outputs": [],
   "source": []
  }
 ],
 "metadata": {
  "kernelspec": {
   "display_name": "Python 3.6.13 ('bachelor')",
   "language": "python",
   "name": "python3"
  },
  "language_info": {
   "codemirror_mode": {
    "name": "ipython",
    "version": 3
   },
   "file_extension": ".py",
   "mimetype": "text/x-python",
   "name": "python",
   "nbconvert_exporter": "python",
   "pygments_lexer": "ipython3",
   "version": "3.6.13"
  },
  "orig_nbformat": 4,
  "vscode": {
   "interpreter": {
    "hash": "d7b3da7fbef978ad2cbc656fd74e8ded9a6b3d58d9033a949abd3fa554b044bd"
   }
  }
 },
 "nbformat": 4,
 "nbformat_minor": 2
}
