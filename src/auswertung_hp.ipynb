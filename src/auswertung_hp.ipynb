{
 "cells": [
  {
   "cell_type": "code",
   "execution_count": 2,
   "metadata": {},
   "outputs": [],
   "source": [
    "import os\n",
    "import pandas as pd\n",
    "import matplotlib.pyplot as plt\n",
    "import re\n",
    "import numpy as np"
   ]
  },
  {
   "cell_type": "code",
   "execution_count": 21,
   "metadata": {},
   "outputs": [
    {
     "data": {
      "text/html": [
       "<div>\n",
       "<style scoped>\n",
       "    .dataframe tbody tr th:only-of-type {\n",
       "        vertical-align: middle;\n",
       "    }\n",
       "\n",
       "    .dataframe tbody tr th {\n",
       "        vertical-align: top;\n",
       "    }\n",
       "\n",
       "    .dataframe thead th {\n",
       "        text-align: right;\n",
       "    }\n",
       "</style>\n",
       "<table border=\"1\" class=\"dataframe\">\n",
       "  <thead>\n",
       "    <tr style=\"text-align: right;\">\n",
       "      <th></th>\n",
       "      <th>exp</th>\n",
       "      <th>synth</th>\n",
       "    </tr>\n",
       "  </thead>\n",
       "  <tbody>\n",
       "    <tr>\n",
       "      <th>0.0</th>\n",
       "      <td>[[0.30641815362036917, 0.6624672126366402, 0.5...</td>\n",
       "      <td>[[[0.004982063946080473, 0.004982063946080473,...</td>\n",
       "    </tr>\n",
       "    <tr>\n",
       "      <th>0.1</th>\n",
       "      <td>[[0.3094187482823375, 0.47447783680959615, 0.2...</td>\n",
       "      <td>[[[0.02199657817264117, 0.02199657817264117, 0...</td>\n",
       "    </tr>\n",
       "    <tr>\n",
       "      <th>0.2</th>\n",
       "      <td>[[0.32017015125404896, 0.39054398644115734, 0....</td>\n",
       "      <td>[[[0.0599679112882728, 0.0599679112882728, 0.0...</td>\n",
       "    </tr>\n",
       "    <tr>\n",
       "      <th>0.3</th>\n",
       "      <td>[[0.24488633451024588, 0.35131285824129177, 0....</td>\n",
       "      <td>[[[0.099224616403283, 0.099224616403283, 0.099...</td>\n",
       "    </tr>\n",
       "    <tr>\n",
       "      <th>0.4</th>\n",
       "      <td>[[0.24405774150026854, 0.3745725778865206, 0.2...</td>\n",
       "      <td>[[[0.12017933517522775, 0.12017933517522775, 0...</td>\n",
       "    </tr>\n",
       "    <tr>\n",
       "      <th>0.5</th>\n",
       "      <td>[[0.2796883635076521, 0.3942668738607398, 0.25...</td>\n",
       "      <td>[[[0.20658495965615378, 0.20658495965615378, 0...</td>\n",
       "    </tr>\n",
       "  </tbody>\n",
       "</table>\n",
       "</div>"
      ],
      "text/plain": [
       "                                                   exp  \\\n",
       "0.0  [[0.30641815362036917, 0.6624672126366402, 0.5...   \n",
       "0.1  [[0.3094187482823375, 0.47447783680959615, 0.2...   \n",
       "0.2  [[0.32017015125404896, 0.39054398644115734, 0....   \n",
       "0.3  [[0.24488633451024588, 0.35131285824129177, 0....   \n",
       "0.4  [[0.24405774150026854, 0.3745725778865206, 0.2...   \n",
       "0.5  [[0.2796883635076521, 0.3942668738607398, 0.25...   \n",
       "\n",
       "                                                 synth  \n",
       "0.0  [[[0.004982063946080473, 0.004982063946080473,...  \n",
       "0.1  [[[0.02199657817264117, 0.02199657817264117, 0...  \n",
       "0.2  [[[0.0599679112882728, 0.0599679112882728, 0.0...  \n",
       "0.3  [[[0.099224616403283, 0.099224616403283, 0.099...  \n",
       "0.4  [[[0.12017933517522775, 0.12017933517522775, 0...  \n",
       "0.5  [[[0.20658495965615378, 0.20658495965615378, 0...  "
      ]
     },
     "execution_count": 21,
     "metadata": {},
     "output_type": "execute_result"
    }
   ],
   "source": [
    "full_lst=os.listdir(\"evaluation_log_noise/noise_v1\")\n",
    "log_error_lst=[]\n",
    "noise_levels=[0.0, 0.1, 0.2, 0.3, 0.4, 0.5]\n",
    "noise_df=pd.DataFrame(columns=[\"exp\", \"synth\"], index=noise_levels)\n",
    "data_lst=[]\n",
    "for case in [\"exp\", \"synth\"]:\n",
    "    for noise_level in noise_levels:\n",
    "        log_error_lst=[]\n",
    "        for filename in full_lst:\n",
    "            noise_matches=re.findall(f\".*\\_({noise_level}).*_logerror_{case}.csv$\", filename)\n",
    "            if noise_matches:\n",
    "                log_error_lst.append(np.loadtxt(f\"evaluation_log_noise/noise_v1/{filename}\"))\n",
    "        noise_df.loc[noise_level, case]=log_error_lst\n",
    "noise_df"
   ]
  },
  {
   "cell_type": "code",
   "execution_count": 30,
   "metadata": {},
   "outputs": [
    {
     "data": {
      "text/plain": [
       "array([[0.00498206, 0.00498206, 0.00498206, ..., 0.00498206, 0.00498206,\n",
       "        0.00498206],\n",
       "       [0.03275543, 0.03275543, 0.03275543, ..., 0.03275543, 0.03275543,\n",
       "        0.03275543],\n",
       "       [0.00139291, 0.00139291, 0.00139291, ..., 0.00139291, 0.00139291,\n",
       "        0.00139291],\n",
       "       ...,\n",
       "       [0.00831089, 0.00831089, 0.00831089, ..., 0.00831089, 0.00831089,\n",
       "        0.00831089],\n",
       "       [0.01067986, 0.01067986, 0.01067986, ..., 0.01067986, 0.01067986,\n",
       "        0.01067986],\n",
       "       [0.00113419, 0.00113419, 0.00113419, ..., 0.00113419, 0.00113419,\n",
       "        0.00113419]])"
      ]
     },
     "execution_count": 30,
     "metadata": {},
     "output_type": "execute_result"
    }
   ],
   "source": [
    "np.concatenate(noise_df.loc[0.0][\"synth\"])"
   ]
  },
  {
   "cell_type": "code",
   "execution_count": 31,
   "metadata": {},
   "outputs": [
    {
     "data": {
      "image/png": "[encoded data removed]",
      "text/plain": [
       "<Figure size 432x288 with 1 Axes>"
      ]
     },
     "metadata": {
      "needs_background": "light"
     },
     "output_type": "display_data"
    }
   ],
   "source": [
    "prev_value = 1\n",
    "name = \"\"\n",
    "fig, ax = plt.subplots(1)\n",
    "for case, color in zip([\"exp\", \"synth\"], [\"blue\", \"red\"]):\n",
    "    for noise_level in noise_levels:\n",
    "        ax.errorbar(noise_level, np.mean(np.array(noise_df.loc[noise_level, case])), np.std(np.array(noise_df.loc[noise_level, case])), fmt='o', markersize=8, capsize=5, color=color)\n",
    "# noise_dict\n",
    "# for file in log_error_lst:\n",
    "#     noise = re.findall(\"0\\.\\d\", file)[-1]\n",
    "#     print(noise)\n",
    "#     data = pd.read_csv(f\"evaluation_log_noise/{file}\")\n",
    "#     print(data)\n",
    "#     data_mean = data.values.mean()\n",
    "#     data_std = data.values.std()\n",
    "#     print(data_std)\n",
    "#     ax.errorbar(float(noise), data_mean, data_std,\n",
    "#                 fmt='o', markersize=8, capsize=5)\n"
   ]
  },
  {
   "cell_type": "code",
   "execution_count": null,
   "metadata": {},
   "outputs": [],
   "source": []
  },
  {
   "cell_type": "code",
   "execution_count": null,
   "metadata": {},
   "outputs": [],
   "source": []
  }
 ],
 "metadata": {
  "kernelspec": {
   "display_name": "Python 3.6.13 ('bachelor')",
   "language": "python",
   "name": "python3"
  },
  "language_info": {
   "codemirror_mode": {
    "name": "ipython",
    "version": 3
   },
   "file_extension": ".py",
   "mimetype": "text/x-python",
   "name": "python",
   "nbconvert_exporter": "python",
   "pygments_lexer": "ipython3",
   "version": "3.6.13"
  },
  "orig_nbformat": 4,
  "vscode": {
   "interpreter": {
    "hash": "d7b3da7fbef978ad2cbc656fd74e8ded9a6b3d58d9033a949abd3fa554b044bd"
   }
  }
 },
 "nbformat": 4,
 "nbformat_minor": 2
}
