{
 "cells": [
  {
   "cell_type": "code",
   "execution_count": 2,
   "metadata": {},
   "outputs": [],
   "source": [
    "import os\n",
    "import pandas as pd\n",
    "import matplotlib.pyplot as plt\n",
    "import re\n",
    "import numpy as np\n",
    "import matplotlib\n",
    "matplotlib.rcParams.update({\n",
    "    \"font.size\": 20,\n",
    "    \"boxplot.boxprops.color\": \"gray\",\n",
    "    \"boxplot.patchartist\":True,\n",
    "    \"boxplot.showfliers\": False,\n",
    "    \"boxplot.notch\": True,\n",
    "    \"boxplot.medianprops.color\": \"firebrick\",\n",
    "    \"patch.facecolor\": \"lightgray\"\n",
    "                         })"
   ]
  },
  {
   "cell_type": "code",
   "execution_count": 3,
   "metadata": {},
   "outputs": [
    {
     "name": "stdout",
     "output_type": "stream",
     "text": [
      "next\n",
      "0.034593523 0.001_0.15_50_100_22_11_512_20220716-152403_mse_value_synth.csv\n"
     ]
    }
   ],
   "source": [
    "full_lst=os.listdir(\"evaluation_errors2l\")\n",
    "curr_value=float(10)\n",
    "name=\"\"\n",
    "for filename in full_lst:\n",
    "    try:\n",
    "        with open(\"evaluation_errors2l/\"+filename, \"r\") as f:\n",
    "            value=float(f.read())\n",
    "    except IsADirectoryError:\n",
    "        print(\"next\")\n",
    "    if value<curr_value:\n",
    "        curr_value=value\n",
    "        name=filename\n",
    "print(curr_value, name)"
   ]
  },
  {
   "cell_type": "code",
   "execution_count": 21,
   "metadata": {},
   "outputs": [
    {
     "name": "stdout",
     "output_type": "stream",
     "text": [
      "5.0386879593133926e-05 0.0_25_50_75_12_8_4_256_20220719-122140_mse_errors_synth.csv\n"
     ]
    }
   ],
   "source": [
    "path=\"evaluation_errors3l\"\n",
    "full_lst=os.listdir(path)\n",
    "curr_value=float(10)\n",
    "name=\"\"\n",
    "for filename in full_lst:\n",
    "    if re.findall(\"mse_errors_synth\", filename):\n",
    "        values=pd.read_csv(os.path.join(path, filename))\n",
    "        median=np.median(values)\n",
    "    if median<curr_value:\n",
    "        curr_value=median\n",
    "        name=filename\n",
    "print(curr_value, name)"
   ]
  },
  {
   "cell_type": "code",
   "execution_count": 87,
   "metadata": {},
   "outputs": [],
   "source": [
    "def iterate_files(path):\n",
    "    noise_levels=[np.round(x, 2) for x in np.arange(0.0, 0.6, 1.0/20)]\n",
    "    noise_df=pd.DataFrame(columns=[\"exp\", \"synth\"], index=noise_levels)\n",
    "\n",
    "    for case, case_color in zip([\"exp\"], [\"red\"]):\n",
    "        full_lst=os.listdir(path)\n",
    "        absolute_df=pd.DataFrame(columns=[\"values\"], index=noise_levels)\n",
    "        for noise_level in noise_levels:\n",
    "            mse_error_lst=[]\n",
    "            absolute_error_array_th=[]\n",
    "            absolute_error_array_rh=[]\n",
    "            absolute_error_array_sld=[]\n",
    "            for filename in full_lst:\n",
    "                if path==\"evaluation_errors3l\":\n",
    "                    noise_matches=re.findall(f\"({str(noise_level)})\\_(\\d{{2}})\\_(\\d{{2}})\\_(\\d{{2}})\\_(\\d{{2}})\\_(\\d{{1}})\\_(\\d{{1}})\\_(\\d{{3}})\\_(.*)\\_mse\\_errors\\_exp\\.csv\", filename)\n",
    "                else:\n",
    "                    print(\"test\")\n",
    "                if case==\"exp\":\n",
    "                    if path==\"evaluation_errors3l\":\n",
    "                        absolute_matches_th=re.findall(f\"({noise_level}).*\\_th.csv$\", filename)\n",
    "                        absolute_matches_rh=re.findall(f\"({noise_level}).*\\_rh.csv$\", filename)\n",
    "                        absolute_matches_sld=re.findall(f\"({noise_level}).*\\_sld.csv$\", filename)\n",
    "                    else:\n",
    "                        absolute_matches_th=re.findall(f\".*\\_({noise_level}).*\\_th.csv$\", filename)\n",
    "                        absolute_matches_rh=re.findall(f\".*\\_({noise_level}).*\\_rh.csv$\", filename)\n",
    "                        absolute_matches_sld=re.findall(f\".*\\_({noise_level}).*\\_sld.csv$\", filename)\n",
    "                    if absolute_matches_th:\n",
    "                        absolute_error_array_th.append(np.loadtxt(os.path.join(path, f\"{filename}\")))\n",
    "                    if absolute_matches_rh:\n",
    "                        absolute_error_array_rh.append(np.loadtxt(os.path.join(path, f\"{filename}\")))\n",
    "                    if absolute_matches_sld:\n",
    "                        absolute_error_array_sld.append(np.loadtxt(os.path.join(path, f\"{filename}\")))\n",
    "                if noise_matches:\n",
    "                    mse_error_lst.append(np.loadtxt(os.path.join(path, f\"{filename}\")))\n",
    "            noise_df.loc[noise_level, case]=mse_error_lst\n",
    "        if case==\"exp\":\n",
    "            absolute_df.loc[noise_level, \"values\"]=[absolute_error_array_th, absolute_error_array_rh, absolute_error_array_sld]\n",
    "    return noise_df, absolute_df"
   ]
  },
  {
   "cell_type": "code",
   "execution_count": 88,
   "metadata": {},
   "outputs": [],
   "source": [
    "noise_df, absolute_df=iterate_files(\"evaluation_errors3l\")"
   ]
  },
  {
   "cell_type": "code",
   "execution_count": 89,
   "metadata": {},
   "outputs": [
    {
     "data": {
      "text/html": [
       "<div>\n",
       "<style scoped>\n",
       "    .dataframe tbody tr th:only-of-type {\n",
       "        vertical-align: middle;\n",
       "    }\n",
       "\n",
       "    .dataframe tbody tr th {\n",
       "        vertical-align: top;\n",
       "    }\n",
       "\n",
       "    .dataframe thead th {\n",
       "        text-align: right;\n",
       "    }\n",
       "</style>\n",
       "<table border=\"1\" class=\"dataframe\">\n",
       "  <thead>\n",
       "    <tr style=\"text-align: right;\">\n",
       "      <th></th>\n",
       "      <th>values</th>\n",
       "    </tr>\n",
       "  </thead>\n",
       "  <tbody>\n",
       "    <tr>\n",
       "      <th>0.00</th>\n",
       "      <td>NaN</td>\n",
       "    </tr>\n",
       "    <tr>\n",
       "      <th>0.05</th>\n",
       "      <td>NaN</td>\n",
       "    </tr>\n",
       "    <tr>\n",
       "      <th>0.10</th>\n",
       "      <td>NaN</td>\n",
       "    </tr>\n",
       "    <tr>\n",
       "      <th>0.15</th>\n",
       "      <td>NaN</td>\n",
       "    </tr>\n",
       "    <tr>\n",
       "      <th>0.20</th>\n",
       "      <td>NaN</td>\n",
       "    </tr>\n",
       "    <tr>\n",
       "      <th>0.25</th>\n",
       "      <td>NaN</td>\n",
       "    </tr>\n",
       "    <tr>\n",
       "      <th>0.30</th>\n",
       "      <td>NaN</td>\n",
       "    </tr>\n",
       "    <tr>\n",
       "      <th>0.35</th>\n",
       "      <td>NaN</td>\n",
       "    </tr>\n",
       "    <tr>\n",
       "      <th>0.40</th>\n",
       "      <td>NaN</td>\n",
       "    </tr>\n",
       "    <tr>\n",
       "      <th>0.45</th>\n",
       "      <td>NaN</td>\n",
       "    </tr>\n",
       "    <tr>\n",
       "      <th>0.50</th>\n",
       "      <td>NaN</td>\n",
       "    </tr>\n",
       "    <tr>\n",
       "      <th>0.55</th>\n",
       "      <td>[[[309.95624223062316, 333.6785230922165, 169....</td>\n",
       "    </tr>\n",
       "  </tbody>\n",
       "</table>\n",
       "</div>"
      ],
      "text/plain": [
       "                                                 values\n",
       "0.00                                                NaN\n",
       "0.05                                                NaN\n",
       "0.10                                                NaN\n",
       "0.15                                                NaN\n",
       "0.20                                                NaN\n",
       "0.25                                                NaN\n",
       "0.30                                                NaN\n",
       "0.35                                                NaN\n",
       "0.40                                                NaN\n",
       "0.45                                                NaN\n",
       "0.50                                                NaN\n",
       "0.55  [[[309.95624223062316, 333.6785230922165, 169...."
      ]
     },
     "execution_count": 89,
     "metadata": {},
     "output_type": "execute_result"
    },
    {
     "data": {
      "image/png": "[encoded data removed]",
      "text/plain": [
       "<Figure size 720x360 with 1 Axes>"
      ]
     },
     "metadata": {
      "needs_background": "light"
     },
     "output_type": "display_data"
    }
   ],
   "source": [
    "fig, ax = plt.subplots(1, figsize=(10,5))\n",
    "\n",
    "ax.boxplot([noise_df.loc[noise_level, \"exp\"][0].tolist() for noise_level in noise_df.index.values])\n",
    "absolute_df"
   ]
  },
  {
   "cell_type": "code",
   "execution_count": 83,
   "metadata": {},
   "outputs": [
    {
     "data": {
      "image/png": "[encoded data removed]",
      "text/plain": [
       "<Figure size 360x504 with 1 Axes>"
      ]
     },
     "metadata": {
      "needs_background": "light"
     },
     "output_type": "display_data"
    }
   ],
   "source": [
    "path=\"evaluation_errors3l/current_state/\"\n",
    "full_lst=os.listdir(path)\n",
    "fig_param, ax = plt.subplots(1, figsize=(5,7))\n",
    "noise_df=pd.DataFrame(columns=[\"exp\"], index=noise_levels)\n",
    "noise_levels=[np.round(x, 2) for x in np.arange(0.0, 1, 1.0/20)]\n",
    "for noise_level in noise_levels:\n",
    "    sld=[]\n",
    "    for filename in full_lst:\n",
    "        noise_matches=re.findall(f\"({noise_level}).*_absolute_errors_synth.csv$\", filename)\n",
    "        if noise_matches:\n",
    "            array=np.loadtxt(os.path.join(path, f\"{filename}\"))\n",
    "            sld.append(array[:, 1])\n",
    "    noise_df.loc[noise_level, \"exp\"]=np.array(sld)\n",
    "for noise_level in noise_levels:\n",
    "    ax.errorbar(noise_level, np.mean(noise_df.loc[noise_level, \"exp\"]), np.std(noise_df.loc[noise_level, \"exp\"]), fmt='o', markersize=8, capsize=5, color=case_color)"
   ]
  },
  {
   "cell_type": "code",
   "execution_count": null,
   "metadata": {},
   "outputs": [],
   "source": []
  },
  {
   "cell_type": "code",
   "execution_count": null,
   "metadata": {},
   "outputs": [],
   "source": []
  }
 ],
 "metadata": {
  "kernelspec": {
   "display_name": "Python 3.6.13 ('bachelor')",
   "language": "python",
   "name": "python3"
  },
  "language_info": {
   "codemirror_mode": {
    "name": "ipython",
    "version": 3
   },
   "file_extension": ".py",
   "mimetype": "text/x-python",
   "name": "python",
   "nbconvert_exporter": "python",
   "pygments_lexer": "ipython3",
   "version": "3.6.13"
  },
  "orig_nbformat": 4,
  "vscode": {
   "interpreter": {
    "hash": "d7b3da7fbef978ad2cbc656fd74e8ded9a6b3d58d9033a949abd3fa554b044bd"
   }
  }
 },
 "nbformat": 4,
 "nbformat_minor": 2
}
