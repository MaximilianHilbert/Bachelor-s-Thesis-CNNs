{
 "cells": [
  {
   "cell_type": "markdown",
   "metadata": {},
   "source": [
    "# Example of using _mlreflect_ for training"
   ]
  },
  {
   "cell_type": "markdown",
   "metadata": {},
   "source": [
    "## Imports"
   ]
  },
  {
   "cell_type": "code",
   "execution_count": 1,
   "metadata": {},
   "outputs": [],
   "source": [
    "import matplotlib.pyplot as plt\n",
    "import numpy as np"
   ]
  },
  {
   "cell_type": "code",
   "execution_count": 2,
   "metadata": {},
   "outputs": [],
   "source": [
    "from mlreflect.models import DefaultTrainedModel, TrainedModel\n",
    "from mlreflect.data_generation import ReflectivityGenerator, noise\n",
    "from mlreflect.training import InputPreprocessor, OutputPreprocessor, NoiseGenerator\n",
    "from mlreflect.curve_fitter import CurveFitter\n",
    "from mlreflect.utils.naming import make_timestamp\n",
    "from tensorflow import keras"
   ]
  },
  {
   "cell_type": "markdown",
   "metadata": {},
   "source": [
    "## Load values from the default model (as published in Greco _et al._ 2022)"
   ]
  },
  {
   "cell_type": "code",
   "execution_count": 3,
   "metadata": {},
   "outputs": [],
   "source": [
    "q_values = DefaultTrainedModel().q_values\n",
    "sample = DefaultTrainedModel().sample"
   ]
  },
  {
   "cell_type": "code",
   "execution_count": 4,
   "metadata": {},
   "outputs": [
    {
     "name": "stdout",
     "output_type": "stream",
     "text": [
      "Air (ambient):\n",
      "\tsld: 0 [1e-6 1/Å^2]\n",
      "[1] Film:\n",
      "\tthickness: (20, 1000) [Å]\n",
      "\troughness: (0, 100) [Å]\n",
      "\tsld: (1, 14) [1e-6 1/Å^2]\n",
      "[0] SiOx:\n",
      "\tthickness: 10.0 [Å]\n",
      "\troughness: 2.5 [Å]\n",
      "\tsld: (17.7735+0.4048j) [1e-6 1/Å^2]\n",
      "Si (substrate):\n",
      "\troughness: 1 [Å]\n",
      "\tsld: (20.0701+0.4571j) [1e-6 1/Å^2]\n"
     ]
    }
   ],
   "source": [
    "print(sample)"
   ]
  },
  {
   "cell_type": "markdown",
   "metadata": {},
   "source": [
    "## Generate input and output"
   ]
  },
  {
   "cell_type": "code",
   "execution_count": 5,
   "metadata": {},
   "outputs": [],
   "source": [
    "generator = ReflectivityGenerator(q_values, sample)"
   ]
  },
  {
   "cell_type": "code",
   "execution_count": 6,
   "metadata": {},
   "outputs": [
    {
     "name": "stderr",
     "output_type": "stream",
     "text": [
      "100%|██████████| 1024/1024 [00:00<00:00, 2429.66it/s]\n"
     ]
    }
   ],
   "source": [
    "n_total = 1024\n",
    "labels = generator.generate_random_labels(n_total)\n",
    "reflectivity = generator.simulate_reflectivity(labels)"
   ]
  },
  {
   "cell_type": "code",
   "execution_count": 7,
   "metadata": {},
   "outputs": [
    {
     "data": {
      "text/html": [
       "<div>\n",
       "<style scoped>\n",
       "    .dataframe tbody tr th:only-of-type {\n",
       "        vertical-align: middle;\n",
       "    }\n",
       "\n",
       "    .dataframe tbody tr th {\n",
       "        vertical-align: top;\n",
       "    }\n",
       "\n",
       "    .dataframe thead th {\n",
       "        text-align: right;\n",
       "    }\n",
       "</style>\n",
       "<table border=\"1\" class=\"dataframe\">\n",
       "  <thead>\n",
       "    <tr style=\"text-align: right;\">\n",
       "      <th></th>\n",
       "      <th>SiOx_thickness</th>\n",
       "      <th>Film_thickness</th>\n",
       "      <th>Si_roughness</th>\n",
       "      <th>SiOx_roughness</th>\n",
       "      <th>Film_roughness</th>\n",
       "      <th>Si_sld</th>\n",
       "      <th>SiOx_sld</th>\n",
       "      <th>Film_sld</th>\n",
       "      <th>Air_sld</th>\n",
       "    </tr>\n",
       "  </thead>\n",
       "  <tbody>\n",
       "    <tr>\n",
       "      <th>0</th>\n",
       "      <td>10.0</td>\n",
       "      <td>845.343153</td>\n",
       "      <td>1</td>\n",
       "      <td>2.5</td>\n",
       "      <td>82.149175</td>\n",
       "      <td>20.070100+0.457100j</td>\n",
       "      <td>17.773500+0.404800j</td>\n",
       "      <td>4.892686</td>\n",
       "      <td>0</td>\n",
       "    </tr>\n",
       "    <tr>\n",
       "      <th>1</th>\n",
       "      <td>10.0</td>\n",
       "      <td>644.344941</td>\n",
       "      <td>1</td>\n",
       "      <td>2.5</td>\n",
       "      <td>46.794991</td>\n",
       "      <td>20.070100+0.457100j</td>\n",
       "      <td>17.773500+0.404800j</td>\n",
       "      <td>11.573219</td>\n",
       "      <td>0</td>\n",
       "    </tr>\n",
       "    <tr>\n",
       "      <th>2</th>\n",
       "      <td>10.0</td>\n",
       "      <td>257.776751</td>\n",
       "      <td>1</td>\n",
       "      <td>2.5</td>\n",
       "      <td>86.304737</td>\n",
       "      <td>20.070100+0.457100j</td>\n",
       "      <td>17.773500+0.404800j</td>\n",
       "      <td>7.258925</td>\n",
       "      <td>0</td>\n",
       "    </tr>\n",
       "    <tr>\n",
       "      <th>3</th>\n",
       "      <td>10.0</td>\n",
       "      <td>84.807697</td>\n",
       "      <td>1</td>\n",
       "      <td>2.5</td>\n",
       "      <td>0.823161</td>\n",
       "      <td>20.070100+0.457100j</td>\n",
       "      <td>17.773500+0.404800j</td>\n",
       "      <td>13.450039</td>\n",
       "      <td>0</td>\n",
       "    </tr>\n",
       "    <tr>\n",
       "      <th>4</th>\n",
       "      <td>10.0</td>\n",
       "      <td>930.585510</td>\n",
       "      <td>1</td>\n",
       "      <td>2.5</td>\n",
       "      <td>7.562076</td>\n",
       "      <td>20.070100+0.457100j</td>\n",
       "      <td>17.773500+0.404800j</td>\n",
       "      <td>4.004579</td>\n",
       "      <td>0</td>\n",
       "    </tr>\n",
       "    <tr>\n",
       "      <th>...</th>\n",
       "      <td>...</td>\n",
       "      <td>...</td>\n",
       "      <td>...</td>\n",
       "      <td>...</td>\n",
       "      <td>...</td>\n",
       "      <td>...</td>\n",
       "      <td>...</td>\n",
       "      <td>...</td>\n",
       "      <td>...</td>\n",
       "    </tr>\n",
       "    <tr>\n",
       "      <th>1019</th>\n",
       "      <td>10.0</td>\n",
       "      <td>812.626239</td>\n",
       "      <td>1</td>\n",
       "      <td>2.5</td>\n",
       "      <td>40.447089</td>\n",
       "      <td>20.070100+0.457100j</td>\n",
       "      <td>17.773500+0.404800j</td>\n",
       "      <td>9.977775</td>\n",
       "      <td>0</td>\n",
       "    </tr>\n",
       "    <tr>\n",
       "      <th>1020</th>\n",
       "      <td>10.0</td>\n",
       "      <td>314.234065</td>\n",
       "      <td>1</td>\n",
       "      <td>2.5</td>\n",
       "      <td>55.426937</td>\n",
       "      <td>20.070100+0.457100j</td>\n",
       "      <td>17.773500+0.404800j</td>\n",
       "      <td>4.303279</td>\n",
       "      <td>0</td>\n",
       "    </tr>\n",
       "    <tr>\n",
       "      <th>1021</th>\n",
       "      <td>10.0</td>\n",
       "      <td>277.641660</td>\n",
       "      <td>1</td>\n",
       "      <td>2.5</td>\n",
       "      <td>11.715982</td>\n",
       "      <td>20.070100+0.457100j</td>\n",
       "      <td>17.773500+0.404800j</td>\n",
       "      <td>13.396382</td>\n",
       "      <td>0</td>\n",
       "    </tr>\n",
       "    <tr>\n",
       "      <th>1022</th>\n",
       "      <td>10.0</td>\n",
       "      <td>888.079671</td>\n",
       "      <td>1</td>\n",
       "      <td>2.5</td>\n",
       "      <td>40.142580</td>\n",
       "      <td>20.070100+0.457100j</td>\n",
       "      <td>17.773500+0.404800j</td>\n",
       "      <td>4.964635</td>\n",
       "      <td>0</td>\n",
       "    </tr>\n",
       "    <tr>\n",
       "      <th>1023</th>\n",
       "      <td>10.0</td>\n",
       "      <td>731.540846</td>\n",
       "      <td>1</td>\n",
       "      <td>2.5</td>\n",
       "      <td>87.137865</td>\n",
       "      <td>20.070100+0.457100j</td>\n",
       "      <td>17.773500+0.404800j</td>\n",
       "      <td>1.656312</td>\n",
       "      <td>0</td>\n",
       "    </tr>\n",
       "  </tbody>\n",
       "</table>\n",
       "<p>1024 rows × 9 columns</p>\n",
       "</div>"
      ],
      "text/plain": [
       "      SiOx_thickness  Film_thickness  Si_roughness  SiOx_roughness  \\\n",
       "0               10.0      845.343153             1             2.5   \n",
       "1               10.0      644.344941             1             2.5   \n",
       "2               10.0      257.776751             1             2.5   \n",
       "3               10.0       84.807697             1             2.5   \n",
       "4               10.0      930.585510             1             2.5   \n",
       "...              ...             ...           ...             ...   \n",
       "1019            10.0      812.626239             1             2.5   \n",
       "1020            10.0      314.234065             1             2.5   \n",
       "1021            10.0      277.641660             1             2.5   \n",
       "1022            10.0      888.079671             1             2.5   \n",
       "1023            10.0      731.540846             1             2.5   \n",
       "\n",
       "      Film_roughness               Si_sld             SiOx_sld   Film_sld  \\\n",
       "0          82.149175  20.070100+0.457100j  17.773500+0.404800j   4.892686   \n",
       "1          46.794991  20.070100+0.457100j  17.773500+0.404800j  11.573219   \n",
       "2          86.304737  20.070100+0.457100j  17.773500+0.404800j   7.258925   \n",
       "3           0.823161  20.070100+0.457100j  17.773500+0.404800j  13.450039   \n",
       "4           7.562076  20.070100+0.457100j  17.773500+0.404800j   4.004579   \n",
       "...              ...                  ...                  ...        ...   \n",
       "1019       40.447089  20.070100+0.457100j  17.773500+0.404800j   9.977775   \n",
       "1020       55.426937  20.070100+0.457100j  17.773500+0.404800j   4.303279   \n",
       "1021       11.715982  20.070100+0.457100j  17.773500+0.404800j  13.396382   \n",
       "1022       40.142580  20.070100+0.457100j  17.773500+0.404800j   4.964635   \n",
       "1023       87.137865  20.070100+0.457100j  17.773500+0.404800j   1.656312   \n",
       "\n",
       "      Air_sld  \n",
       "0           0  \n",
       "1           0  \n",
       "2           0  \n",
       "3           0  \n",
       "4           0  \n",
       "...       ...  \n",
       "1019        0  \n",
       "1020        0  \n",
       "1021        0  \n",
       "1022        0  \n",
       "1023        0  \n",
       "\n",
       "[1024 rows x 9 columns]"
      ]
     },
     "execution_count": 7,
     "metadata": {},
     "output_type": "execute_result"
    }
   ],
   "source": [
    "labels"
   ]
  },
  {
   "cell_type": "code",
   "execution_count": 8,
   "metadata": {},
   "outputs": [
    {
     "data": {
      "text/plain": [
       "[<matplotlib.lines.Line2D at 0x7fb859118630>]"
      ]
     },
     "execution_count": 8,
     "metadata": {},
     "output_type": "execute_result"
    },
    {
     "data": {
      "image/png": "[encoded data removed]",
      "text/plain": [
       "<Figure size 432x288 with 1 Axes>"
      ]
     },
     "metadata": {
      "needs_background": "light"
     },
     "output_type": "display_data"
    }
   ],
   "source": [
    "plt.semilogy(q_values, reflectivity[31])"
   ]
  },
  {
   "cell_type": "markdown",
   "metadata": {},
   "source": [
    "While looking into this, I saw that most of the curves are actually flat due to the very high range of roughness. This might affect training and it might be useful to filter those out in the future."
   ]
  },
  {
   "cell_type": "markdown",
   "metadata": {},
   "source": [
    "## Setup preprocessors"
   ]
  },
  {
   "cell_type": "markdown",
   "metadata": {},
   "source": [
    "### Output preprocessing"
   ]
  },
  {
   "cell_type": "code",
   "execution_count": 9,
   "metadata": {},
   "outputs": [],
   "source": [
    "op = OutputPreprocessor(sample, normalization='min_to_zero')"
   ]
  },
  {
   "cell_type": "code",
   "execution_count": 10,
   "metadata": {},
   "outputs": [],
   "source": [
    "preprocessed_labels, removed_labels = op.apply_preprocessing(labels)"
   ]
  },
  {
   "cell_type": "code",
   "execution_count": 11,
   "metadata": {},
   "outputs": [
    {
     "data": {
      "text/html": [
       "<div>\n",
       "<style scoped>\n",
       "    .dataframe tbody tr th:only-of-type {\n",
       "        vertical-align: middle;\n",
       "    }\n",
       "\n",
       "    .dataframe tbody tr th {\n",
       "        vertical-align: top;\n",
       "    }\n",
       "\n",
       "    .dataframe thead th {\n",
       "        text-align: right;\n",
       "    }\n",
       "</style>\n",
       "<table border=\"1\" class=\"dataframe\">\n",
       "  <thead>\n",
       "    <tr style=\"text-align: right;\">\n",
       "      <th></th>\n",
       "      <th>Film_thickness</th>\n",
       "      <th>Film_roughness</th>\n",
       "      <th>Film_sld</th>\n",
       "    </tr>\n",
       "  </thead>\n",
       "  <tbody>\n",
       "    <tr>\n",
       "      <th>0</th>\n",
       "      <td>0.842187</td>\n",
       "      <td>0.821492</td>\n",
       "      <td>0.299437</td>\n",
       "    </tr>\n",
       "    <tr>\n",
       "      <th>1</th>\n",
       "      <td>0.637087</td>\n",
       "      <td>0.467950</td>\n",
       "      <td>0.813325</td>\n",
       "    </tr>\n",
       "    <tr>\n",
       "      <th>2</th>\n",
       "      <td>0.242629</td>\n",
       "      <td>0.863047</td>\n",
       "      <td>0.481456</td>\n",
       "    </tr>\n",
       "    <tr>\n",
       "      <th>3</th>\n",
       "      <td>0.066130</td>\n",
       "      <td>0.008232</td>\n",
       "      <td>0.957695</td>\n",
       "    </tr>\n",
       "    <tr>\n",
       "      <th>4</th>\n",
       "      <td>0.929169</td>\n",
       "      <td>0.075621</td>\n",
       "      <td>0.231121</td>\n",
       "    </tr>\n",
       "    <tr>\n",
       "      <th>...</th>\n",
       "      <td>...</td>\n",
       "      <td>...</td>\n",
       "      <td>...</td>\n",
       "    </tr>\n",
       "    <tr>\n",
       "      <th>1019</th>\n",
       "      <td>0.808802</td>\n",
       "      <td>0.404471</td>\n",
       "      <td>0.690598</td>\n",
       "    </tr>\n",
       "    <tr>\n",
       "      <th>1020</th>\n",
       "      <td>0.300239</td>\n",
       "      <td>0.554269</td>\n",
       "      <td>0.254098</td>\n",
       "    </tr>\n",
       "    <tr>\n",
       "      <th>1021</th>\n",
       "      <td>0.262900</td>\n",
       "      <td>0.117160</td>\n",
       "      <td>0.953568</td>\n",
       "    </tr>\n",
       "    <tr>\n",
       "      <th>1022</th>\n",
       "      <td>0.885796</td>\n",
       "      <td>0.401426</td>\n",
       "      <td>0.304972</td>\n",
       "    </tr>\n",
       "    <tr>\n",
       "      <th>1023</th>\n",
       "      <td>0.726062</td>\n",
       "      <td>0.871379</td>\n",
       "      <td>0.050486</td>\n",
       "    </tr>\n",
       "  </tbody>\n",
       "</table>\n",
       "<p>1024 rows × 3 columns</p>\n",
       "</div>"
      ],
      "text/plain": [
       "      Film_thickness  Film_roughness  Film_sld\n",
       "0           0.842187        0.821492  0.299437\n",
       "1           0.637087        0.467950  0.813325\n",
       "2           0.242629        0.863047  0.481456\n",
       "3           0.066130        0.008232  0.957695\n",
       "4           0.929169        0.075621  0.231121\n",
       "...              ...             ...       ...\n",
       "1019        0.808802        0.404471  0.690598\n",
       "1020        0.300239        0.554269  0.254098\n",
       "1021        0.262900        0.117160  0.953568\n",
       "1022        0.885796        0.401426  0.304972\n",
       "1023        0.726062        0.871379  0.050486\n",
       "\n",
       "[1024 rows x 3 columns]"
      ]
     },
     "execution_count": 11,
     "metadata": {},
     "output_type": "execute_result"
    }
   ],
   "source": [
    "preprocessed_labels"
   ]
  },
  {
   "cell_type": "code",
   "execution_count": 12,
   "metadata": {},
   "outputs": [
    {
     "data": {
      "text/html": [
       "<div>\n",
       "<style scoped>\n",
       "    .dataframe tbody tr th:only-of-type {\n",
       "        vertical-align: middle;\n",
       "    }\n",
       "\n",
       "    .dataframe tbody tr th {\n",
       "        vertical-align: top;\n",
       "    }\n",
       "\n",
       "    .dataframe thead th {\n",
       "        text-align: right;\n",
       "    }\n",
       "</style>\n",
       "<table border=\"1\" class=\"dataframe\">\n",
       "  <thead>\n",
       "    <tr style=\"text-align: right;\">\n",
       "      <th></th>\n",
       "      <th>SiOx_thickness</th>\n",
       "      <th>Si_roughness</th>\n",
       "      <th>SiOx_roughness</th>\n",
       "      <th>Si_sld</th>\n",
       "      <th>SiOx_sld</th>\n",
       "      <th>Air_sld</th>\n",
       "    </tr>\n",
       "  </thead>\n",
       "  <tbody>\n",
       "    <tr>\n",
       "      <th>0</th>\n",
       "      <td>10.0</td>\n",
       "      <td>1</td>\n",
       "      <td>2.5</td>\n",
       "      <td>20.070100+0.457100j</td>\n",
       "      <td>17.773500+0.404800j</td>\n",
       "      <td>0</td>\n",
       "    </tr>\n",
       "    <tr>\n",
       "      <th>1</th>\n",
       "      <td>10.0</td>\n",
       "      <td>1</td>\n",
       "      <td>2.5</td>\n",
       "      <td>20.070100+0.457100j</td>\n",
       "      <td>17.773500+0.404800j</td>\n",
       "      <td>0</td>\n",
       "    </tr>\n",
       "    <tr>\n",
       "      <th>2</th>\n",
       "      <td>10.0</td>\n",
       "      <td>1</td>\n",
       "      <td>2.5</td>\n",
       "      <td>20.070100+0.457100j</td>\n",
       "      <td>17.773500+0.404800j</td>\n",
       "      <td>0</td>\n",
       "    </tr>\n",
       "    <tr>\n",
       "      <th>3</th>\n",
       "      <td>10.0</td>\n",
       "      <td>1</td>\n",
       "      <td>2.5</td>\n",
       "      <td>20.070100+0.457100j</td>\n",
       "      <td>17.773500+0.404800j</td>\n",
       "      <td>0</td>\n",
       "    </tr>\n",
       "    <tr>\n",
       "      <th>4</th>\n",
       "      <td>10.0</td>\n",
       "      <td>1</td>\n",
       "      <td>2.5</td>\n",
       "      <td>20.070100+0.457100j</td>\n",
       "      <td>17.773500+0.404800j</td>\n",
       "      <td>0</td>\n",
       "    </tr>\n",
       "    <tr>\n",
       "      <th>...</th>\n",
       "      <td>...</td>\n",
       "      <td>...</td>\n",
       "      <td>...</td>\n",
       "      <td>...</td>\n",
       "      <td>...</td>\n",
       "      <td>...</td>\n",
       "    </tr>\n",
       "    <tr>\n",
       "      <th>1019</th>\n",
       "      <td>10.0</td>\n",
       "      <td>1</td>\n",
       "      <td>2.5</td>\n",
       "      <td>20.070100+0.457100j</td>\n",
       "      <td>17.773500+0.404800j</td>\n",
       "      <td>0</td>\n",
       "    </tr>\n",
       "    <tr>\n",
       "      <th>1020</th>\n",
       "      <td>10.0</td>\n",
       "      <td>1</td>\n",
       "      <td>2.5</td>\n",
       "      <td>20.070100+0.457100j</td>\n",
       "      <td>17.773500+0.404800j</td>\n",
       "      <td>0</td>\n",
       "    </tr>\n",
       "    <tr>\n",
       "      <th>1021</th>\n",
       "      <td>10.0</td>\n",
       "      <td>1</td>\n",
       "      <td>2.5</td>\n",
       "      <td>20.070100+0.457100j</td>\n",
       "      <td>17.773500+0.404800j</td>\n",
       "      <td>0</td>\n",
       "    </tr>\n",
       "    <tr>\n",
       "      <th>1022</th>\n",
       "      <td>10.0</td>\n",
       "      <td>1</td>\n",
       "      <td>2.5</td>\n",
       "      <td>20.070100+0.457100j</td>\n",
       "      <td>17.773500+0.404800j</td>\n",
       "      <td>0</td>\n",
       "    </tr>\n",
       "    <tr>\n",
       "      <th>1023</th>\n",
       "      <td>10.0</td>\n",
       "      <td>1</td>\n",
       "      <td>2.5</td>\n",
       "      <td>20.070100+0.457100j</td>\n",
       "      <td>17.773500+0.404800j</td>\n",
       "      <td>0</td>\n",
       "    </tr>\n",
       "  </tbody>\n",
       "</table>\n",
       "<p>1024 rows × 6 columns</p>\n",
       "</div>"
      ],
      "text/plain": [
       "      SiOx_thickness  Si_roughness  SiOx_roughness               Si_sld  \\\n",
       "0               10.0             1             2.5  20.070100+0.457100j   \n",
       "1               10.0             1             2.5  20.070100+0.457100j   \n",
       "2               10.0             1             2.5  20.070100+0.457100j   \n",
       "3               10.0             1             2.5  20.070100+0.457100j   \n",
       "4               10.0             1             2.5  20.070100+0.457100j   \n",
       "...              ...           ...             ...                  ...   \n",
       "1019            10.0             1             2.5  20.070100+0.457100j   \n",
       "1020            10.0             1             2.5  20.070100+0.457100j   \n",
       "1021            10.0             1             2.5  20.070100+0.457100j   \n",
       "1022            10.0             1             2.5  20.070100+0.457100j   \n",
       "1023            10.0             1             2.5  20.070100+0.457100j   \n",
       "\n",
       "                 SiOx_sld  Air_sld  \n",
       "0     17.773500+0.404800j        0  \n",
       "1     17.773500+0.404800j        0  \n",
       "2     17.773500+0.404800j        0  \n",
       "3     17.773500+0.404800j        0  \n",
       "4     17.773500+0.404800j        0  \n",
       "...                   ...      ...  \n",
       "1019  17.773500+0.404800j        0  \n",
       "1020  17.773500+0.404800j        0  \n",
       "1021  17.773500+0.404800j        0  \n",
       "1022  17.773500+0.404800j        0  \n",
       "1023  17.773500+0.404800j        0  \n",
       "\n",
       "[1024 rows x 6 columns]"
      ]
     },
     "execution_count": 12,
     "metadata": {},
     "output_type": "execute_result"
    }
   ],
   "source": [
    "removed_labels"
   ]
  },
  {
   "cell_type": "markdown",
   "metadata": {},
   "source": [
    "### Input preprocessing"
   ]
  },
  {
   "cell_type": "markdown",
   "metadata": {},
   "source": [
    "#### Define noise levels"
   ]
  },
  {
   "cell_type": "markdown",
   "metadata": {},
   "source": [
    "These are the noise levels I used in Greco _et al._ 2022."
   ]
  },
  {
   "cell_type": "code",
   "execution_count": 13,
   "metadata": {},
   "outputs": [],
   "source": [
    "uniform_noise_range = (0.7, 1.3)\n",
    "scaling_noise_range = (0.8, 1.2)"
   ]
  },
  {
   "cell_type": "markdown",
   "metadata": {},
   "source": [
    "#### Determine standardization parameters of the noisy input"
   ]
  },
  {
   "cell_type": "code",
   "execution_count": 14,
   "metadata": {},
   "outputs": [],
   "source": [
    "ip = InputPreprocessor()\n",
    "ip.standardize(\n",
    "    noise.apply_scaling_factor(\n",
    "        noise.apply_uniform_noise(reflectivity, uniform_noise_range),\n",
    "        scaling_noise_range)\n",
    ");"
   ]
  },
  {
   "cell_type": "code",
   "execution_count": 15,
   "metadata": {},
   "outputs": [
    {
     "data": {
      "image/png": "[encoded data removed]",
      "text/plain": [
       "<Figure size 432x288 with 1 Axes>"
      ]
     },
     "metadata": {
      "needs_background": "light"
     },
     "output_type": "display_data"
    }
   ],
   "source": [
    "plt.errorbar(q_values, ip.standard_mean, yerr=ip.standard_std)\n",
    "plt.yscale('log')\n",
    "plt.show()"
   ]
  },
  {
   "cell_type": "markdown",
   "metadata": {},
   "source": [
    "## Make Keras model"
   ]
  },
  {
   "cell_type": "markdown",
   "metadata": {},
   "source": [
    "This is the main part that we want to change (by using a CNN model instead)."
   ]
  },
  {
   "cell_type": "code",
   "execution_count": 16,
   "metadata": {},
   "outputs": [],
   "source": [
    "def make_fully_connected_model(n_input: int, n_output: int):\n",
    "    model = keras.models.Sequential()\n",
    "\n",
    "    model.add(keras.layers.Dense(512, input_dim=n_input))\n",
    "    \n",
    "    model.add(keras.layers.Activation('relu'))\n",
    "\n",
    "    for i in range(2):\n",
    "        model.add(keras.layers.Dense(512))\n",
    "        model.add(keras.layers.Activation('relu'))\n",
    "\n",
    "    model.add(keras.layers.Dense(n_output))\n",
    "\n",
    "    adam_optimizer = keras.optimizers.Adam(lr=1e-3, beta_1=0.9, beta_2=0.999, epsilon=1e-8, decay=0, amsgrad=False)\n",
    "\n",
    "    model.compile(loss='mean_squared_error', optimizer=adam_optimizer)\n",
    "\n",
    "    return model"
   ]
  },
  {
   "cell_type": "code",
   "execution_count": 18,
   "metadata": {},
   "outputs": [
    {
     "name": "stdout",
     "output_type": "stream",
     "text": [
      "3\n"
     ]
    }
   ],
   "source": [
    "n_input = reflectivity.shape[1]\n",
    "n_output = preprocessed_labels.shape[1]\n",
    "keras_model = make_fully_connected_model(n_input, n_output)\n",
    "print(n_output)"
   ]
  },
  {
   "cell_type": "markdown",
   "metadata": {},
   "source": [
    "## Define Dataloader for Keras"
   ]
  },
  {
   "cell_type": "markdown",
   "metadata": {},
   "source": [
    "### Define a subclass of NoiseGenerator from the _mlreflect_ package that implements uniform noise and curve scaling"
   ]
  },
  {
   "cell_type": "code",
   "execution_count": 19,
   "metadata": {},
   "outputs": [],
   "source": [
    "class UniformNoiseGenerator(NoiseGenerator):\n",
    "    def __init__(self, reflectivity, labels, ip, batch_size=32, mode='single', shuffle=True, uniform_noise_range=(1, 1),\n",
    "                 scaling_range=(1, 1)):\n",
    "        super().__init__(reflectivity, labels, ip, batch_size=batch_size, mode=mode, shuffle=shuffle,\n",
    "                         noise_range=None, background_range=None,\n",
    "                         relative_background_spread=0)\n",
    "        self.uniform_noise_range = uniform_noise_range\n",
    "        self.scaling_range = scaling_range\n",
    "        self.ip = ip\n",
    "\n",
    "    def __data_generation(self, indexes):\n",
    "        refl = self.reflectivity[indexes]\n",
    "        refl = noise.apply_scaling_factor(noise.apply_uniform_noise(refl, self.uniform_noise_range),\n",
    "                                          self.scaling_range)\n",
    "\n",
    "        return self.ip.standardize(refl), np.array(self.labels)[indexes]\n",
    "        \n",
    "    def __getitem__(self, index):\n",
    "        indexes = self.indexes[index * self.batch_size:(index + 1) * self.batch_size]\n",
    "        x, y = self.__data_generation(indexes)\n",
    "\n",
    "        return x, y, [None]"
   ]
  },
  {
   "cell_type": "markdown",
   "metadata": {},
   "source": [
    "### Create a dataloader for both the training and validation data"
   ]
  },
  {
   "cell_type": "code",
   "execution_count": 20,
   "metadata": {},
   "outputs": [
    {
     "name": "stdout",
     "output_type": "stream",
     "text": [
      "853\n"
     ]
    }
   ],
   "source": [
    "n_train = int(25/30 * len(reflectivity))\n",
    "print(n_train)"
   ]
  },
  {
   "cell_type": "code",
   "execution_count": 21,
   "metadata": {},
   "outputs": [],
   "source": [
    "batch_size = 64"
   ]
  },
  {
   "cell_type": "markdown",
   "metadata": {},
   "source": [
    "Actually, the I chose a batch size of 512, but for this demonstration I reduced it, because the batch size cannot be larger than the training or validation set size.\n",
    "Also, ideally both the training and validation set size should be a power of 2 (I know it isn't in my case either)."
   ]
  },
  {
   "cell_type": "code",
   "execution_count": 22,
   "metadata": {},
   "outputs": [],
   "source": [
    "datagen_train = UniformNoiseGenerator(reflectivity=reflectivity[:n_train],\n",
    "                                      labels=preprocessed_labels[:n_train],\n",
    "                                      ip=ip,\n",
    "                                      batch_size=batch_size,\n",
    "                                      uniform_noise_range=uniform_noise_range,\n",
    "                                      scaling_range=scaling_noise_range)\n",
    "\n",
    "datagen_val = UniformNoiseGenerator(reflectivity=reflectivity[n_train:],\n",
    "                                    labels=preprocessed_labels[n_train:],\n",
    "                                    ip=ip,\n",
    "                                    batch_size=batch_size,\n",
    "                                    uniform_noise_range=uniform_noise_range,\n",
    "                                    scaling_range=scaling_noise_range)"
   ]
  },
  {
   "cell_type": "markdown",
   "metadata": {},
   "source": [
    "## Train the model"
   ]
  },
  {
   "cell_type": "markdown",
   "metadata": {},
   "source": [
    "### Generate training ID for later identifcation"
   ]
  },
  {
   "cell_type": "code",
   "execution_count": 23,
   "metadata": {},
   "outputs": [
    {
     "name": "stdout",
     "output_type": "stream",
     "text": [
      "example_model_2022-06-10-160714\n"
     ]
    }
   ],
   "source": [
    "time_stamp = make_timestamp()\n",
    "experiment_id = 'example_model_' + time_stamp\n",
    "print(experiment_id)"
   ]
  },
  {
   "cell_type": "markdown",
   "metadata": {},
   "source": [
    "### Create callbacks"
   ]
  },
  {
   "cell_type": "code",
   "execution_count": 24,
   "metadata": {},
   "outputs": [],
   "source": [
    "# This callback halves the learning rate whenever the loss stagnates for 10 epochs in a row\n",
    "lr_reduction = keras.callbacks.ReduceLROnPlateau(monitor='loss', factor=0.5, verbose=1)\n",
    "\n",
    "# This callback always saves model with the best val_loss across the entire training to a file\n",
    "checkpoint = keras.callbacks.ModelCheckpoint(filepath='models/' + experiment_id + '_model.h5', monitor='val_loss',\n",
    "                                             verbose=1, save_best_only=True)\n",
    "\n",
    "# This callback allows monitoring of the training via tensorboard\n",
    "tb_callback = keras.callbacks.TensorBoard(log_dir='tensorboard/' + experiment_id, histogram_freq=0,\n",
    "                                          write_graph=True, write_images=False)"
   ]
  },
  {
   "cell_type": "markdown",
   "metadata": {},
   "source": [
    "### Run training"
   ]
  },
  {
   "cell_type": "code",
   "execution_count": 25,
   "metadata": {},
   "outputs": [
    {
     "name": "stdout",
     "output_type": "stream",
     "text": [
      "Train for 13 steps, validate for 2 steps\n",
      "Epoch 1/10\n",
      "13/13 [==============================] - 1s 108ms/step - loss: 0.2056 - val_loss: 0.0915\n",
      "Epoch 2/10\n",
      "13/13 [==============================] - 0s 34ms/step - loss: 0.0815 - val_loss: 0.0855\n",
      "Epoch 3/10\n",
      "13/13 [==============================] - 0s 37ms/step - loss: 0.0694 - val_loss: 0.0665\n",
      "Epoch 4/10\n",
      "13/13 [==============================] - 0s 30ms/step - loss: 0.0621 - val_loss: 0.0617\n",
      "Epoch 5/10\n",
      "13/13 [==============================] - 0s 27ms/step - loss: 0.0569 - val_loss: 0.0632\n",
      "Epoch 6/10\n",
      "13/13 [==============================] - 0s 26ms/step - loss: 0.0529 - val_loss: 0.0650\n",
      "Epoch 7/10\n",
      "13/13 [==============================] - 0s 36ms/step - loss: 0.0495 - val_loss: 0.0611\n",
      "Epoch 8/10\n",
      "13/13 [==============================] - 0s 32ms/step - loss: 0.0497 - val_loss: 0.0515\n",
      "Epoch 9/10\n",
      "13/13 [==============================] - 0s 34ms/step - loss: 0.0465 - val_loss: 0.0462\n",
      "Epoch 10/10\n",
      "13/13 [==============================] - 1s 42ms/step - loss: 0.0416 - val_loss: 0.0480\n"
     ]
    }
   ],
   "source": [
    "epochs = 10\n",
    "output = keras_model.fit(datagen_train, validation_data=datagen_val,\n",
    "                   epochs=epochs, verbose=1, callbacks=[lr_reduction,\n",
    "                                                        tb_callback,\n",
    "#                                                         checkpoint\n",
    "                                                       ])"
   ]
  },
  {
   "cell_type": "markdown",
   "metadata": {},
   "source": [
    "## Prediction on test data"
   ]
  },
  {
   "cell_type": "markdown",
   "metadata": {},
   "source": [
    "### Generate test set"
   ]
  },
  {
   "cell_type": "code",
   "execution_count": 19,
   "metadata": {},
   "outputs": [
    {
     "name": "stderr",
     "output_type": "stream",
     "text": [
      "100%|██████████| 100/100 [00:00<00:00, 7903.79it/s]"
     ]
    },
    {
     "name": "stdout",
     "output_type": "stream",
     "text": [
      "(100, 109)\n"
     ]
    },
    {
     "name": "stderr",
     "output_type": "stream",
     "text": [
      "\n"
     ]
    }
   ],
   "source": [
    "test_labels = generator.generate_random_labels(100)\n",
    "test_refl = generator.simulate_reflectivity(test_labels)\n",
    "print(test_refl.shape)"
   ]
  },
  {
   "cell_type": "markdown",
   "metadata": {},
   "source": [
    "### Generate predictions"
   ]
  },
  {
   "cell_type": "code",
   "execution_count": 38,
   "metadata": {},
   "outputs": [],
   "source": [
    "raw_predictions = keras_model.predict(ip.standardize(test_refl)) # this is just an ndarray"
   ]
  },
  {
   "cell_type": "code",
   "execution_count": 39,
   "metadata": {},
   "outputs": [
    {
     "data": {
      "text/plain": [
       "array([[ 8.53584588e-01,  1.23834103e-01,  5.35818517e-01],\n",
       "       [ 2.83375353e-01,  4.44038481e-01,  2.01495007e-01],\n",
       "       [ 6.76008523e-01,  6.05242372e-01,  8.07248473e-01],\n",
       "       [ 3.94462705e-01,  3.61842573e-01,  3.92419219e-01],\n",
       "       [ 3.82615745e-01,  4.72637892e-01,  4.44122821e-01],\n",
       "       [ 6.75920188e-01,  5.29231906e-01,  8.97382617e-01],\n",
       "       [ 2.41056234e-02, -6.67510182e-03,  2.26330549e-01],\n",
       "       [ 3.48755509e-01,  3.52264762e-01, -6.26814086e-03],\n",
       "       [ 2.88708061e-01,  4.41959053e-01,  2.30070472e-01],\n",
       "       [ 6.38695121e-01,  7.02968955e-01,  9.06913877e-01],\n",
       "       [ 1.02753615e+00,  2.10766837e-01,  7.26663172e-01],\n",
       "       [ 5.34727991e-01,  4.78139877e-01,  6.92767501e-01],\n",
       "       [ 2.66684264e-01,  3.48953843e-01,  4.17735100e-01],\n",
       "       [ 6.90122068e-01, -1.49602696e-01,  7.99934983e-01],\n",
       "       [-1.21825658e-01,  3.52132656e-02,  2.12087855e-01],\n",
       "       [ 2.75579691e-01,  3.64155650e-01,  6.83619007e-02],\n",
       "       [ 3.92209321e-01,  3.43221366e-01,  1.04947485e-01],\n",
       "       [ 9.16317776e-02,  2.41654605e-01,  2.41515338e-01],\n",
       "       [ 2.76572496e-01,  3.64246905e-01,  6.73350692e-02],\n",
       "       [ 4.80555862e-01,  2.67396480e-01,  3.80833149e-01],\n",
       "       [ 5.49316466e-01,  2.22315997e-01,  8.06772470e-01],\n",
       "       [ 3.37826282e-01,  4.32811022e-01,  4.11982387e-01],\n",
       "       [ 7.12883890e-01,  1.96631402e-01,  2.71931291e-01],\n",
       "       [ 6.06720448e-01,  1.68744594e-01,  2.77887493e-01],\n",
       "       [ 3.24578047e-01,  2.75677800e-01,  2.28289083e-01],\n",
       "       [ 3.01826566e-01,  3.60234320e-01,  3.95541787e-02],\n",
       "       [ 9.81913269e-01,  1.43231630e-01,  6.56985819e-01],\n",
       "       [ 4.20832366e-01,  5.10854125e-01,  5.03718197e-01],\n",
       "       [ 4.69515204e-01,  2.66080260e-01,  1.99103042e-01],\n",
       "       [ 4.72763628e-01,  3.42537701e-01, -3.00925002e-02],\n",
       "       [ 6.96056187e-01,  1.89420044e-01,  4.11190033e-01],\n",
       "       [ 3.11540008e-01,  3.12885404e-01,  2.23860279e-01],\n",
       "       [ 8.64750743e-01, -3.59941497e-02,  5.32535732e-01],\n",
       "       [ 3.38062972e-01,  3.59197348e-01, -7.04032369e-04],\n",
       "       [ 6.73167646e-01,  7.03059971e-01,  9.46269095e-01],\n",
       "       [ 2.90199429e-01,  3.61822069e-01,  5.83261028e-02],\n",
       "       [ 3.97054821e-01,  3.69290560e-01, -4.11983281e-02],\n",
       "       [-1.69709623e-01,  1.04451589e-02,  2.96499938e-01],\n",
       "       [ 2.74065703e-01,  3.65408301e-01,  7.13312626e-02],\n",
       "       [ 4.65352714e-01,  3.92262429e-01,  3.30794826e-02],\n",
       "       [ 4.12010789e-01,  7.50909001e-02,  6.38610065e-01],\n",
       "       [ 2.92218119e-01,  3.77556503e-01,  2.93294281e-01],\n",
       "       [ 3.03555518e-01,  3.59010637e-01,  3.54014635e-02],\n",
       "       [ 4.12595361e-01,  3.66874099e-01, -5.59218973e-02],\n",
       "       [ 6.46573365e-01,  6.76658988e-01,  8.69759321e-01],\n",
       "       [ 3.91404927e-01,  4.80242610e-01,  4.51785326e-01],\n",
       "       [ 7.31394470e-01,  2.75283515e-01,  7.57926941e-01],\n",
       "       [ 3.12180609e-01,  3.58113408e-01,  2.59255469e-02],\n",
       "       [ 7.07491040e-01,  6.99282944e-01,  9.45319116e-01],\n",
       "       [ 7.34008014e-01,  6.68578744e-01,  8.64532888e-01],\n",
       "       [ 7.61300504e-01,  5.44808745e-01,  9.45347786e-01],\n",
       "       [ 3.93908948e-01,  3.32274497e-01,  1.95009276e-01],\n",
       "       [ 2.80205727e-01,  4.36742127e-01,  1.96102560e-01],\n",
       "       [ 6.07080281e-01,  6.37623489e-01,  7.60293424e-01],\n",
       "       [ 2.93916672e-01,  3.59459043e-01,  4.18450162e-02],\n",
       "       [ 3.32990855e-01,  3.47889960e-01,  4.77285683e-02],\n",
       "       [ 5.71639895e-01,  5.84121764e-01,  8.04984391e-01],\n",
       "       [ 3.70243639e-01,  4.69134867e-01,  4.35206890e-01],\n",
       "       [ 7.95865282e-02, -4.75923494e-02,  5.54843366e-01],\n",
       "       [ 2.46449649e-01,  3.82683128e-01,  2.81932622e-01],\n",
       "       [ 1.01930118e+00,  7.99616612e-03,  6.44856811e-01],\n",
       "       [-1.45152770e-02, -1.34671569e-01,  5.88142157e-01],\n",
       "       [ 6.63935721e-01,  6.10103250e-01,  9.57601607e-01],\n",
       "       [ 3.52915615e-01,  2.22397685e-01,  5.63253641e-01],\n",
       "       [ 3.23338836e-01,  3.49285126e-01,  4.59352881e-02],\n",
       "       [ 5.45139015e-01,  3.13507706e-01,  5.72355151e-01],\n",
       "       [ 3.67356420e-01,  3.71989131e-01, -5.58108184e-03],\n",
       "       [-1.53751463e-01, -1.43027082e-01,  6.60246491e-01],\n",
       "       [ 4.16832387e-01,  3.41965556e-01, -6.22959733e-02],\n",
       "       [ 3.64945233e-01,  3.77440333e-01, -6.20749872e-03],\n",
       "       [ 3.14668566e-01, -6.94131106e-03,  5.56199908e-01],\n",
       "       [ 5.07563233e-01,  3.45304430e-01,  4.46253687e-01],\n",
       "       [ 3.80059004e-01,  2.16629714e-01,  1.86670870e-01],\n",
       "       [ 3.77277106e-01,  3.64538610e-01, -1.98053382e-02],\n",
       "       [ 2.47779965e-01,  1.87140390e-01,  5.07239521e-01],\n",
       "       [ 6.40094161e-01,  7.16503024e-01,  9.18593407e-01],\n",
       "       [ 3.23746234e-01,  3.63708377e-01,  5.48548661e-02],\n",
       "       [ 3.92630100e-01,  3.13630223e-01, -6.91191703e-02],\n",
       "       [ 7.02838838e-01,  4.36553881e-02,  7.58764207e-01],\n",
       "       [-8.57275799e-02,  5.37093729e-02,  4.03332233e-01],\n",
       "       [ 2.75021493e-01,  3.35733920e-01,  2.61511691e-02],\n",
       "       [ 3.46013039e-01,  3.59416842e-01, -8.66087247e-03],\n",
       "       [ 6.68082058e-01,  7.02665329e-01,  9.02650476e-01],\n",
       "       [ 1.85322791e-01, -7.83020407e-02,  6.40342534e-01],\n",
       "       [ 7.14990318e-01,  3.33370835e-01,  8.63770425e-01],\n",
       "       [ 2.85144657e-01,  3.43790323e-01,  3.46466862e-02],\n",
       "       [ 3.08094352e-01, -3.26237231e-02,  6.49189234e-01],\n",
       "       [ 7.25458860e-01,  4.40629810e-01,  9.39187348e-01],\n",
       "       [ 3.61701071e-01,  3.59066695e-01, -2.41466612e-02],\n",
       "       [ 7.57289529e-01,  1.25596970e-01,  4.30515587e-01],\n",
       "       [ 1.00820637e+00, -5.98720089e-02,  5.03304839e-01],\n",
       "       [ 4.17622715e-01,  5.23802936e-01,  8.40103149e-01],\n",
       "       [ 5.11727035e-01,  3.27475071e-01,  9.16351616e-01],\n",
       "       [ 3.84665191e-01,  3.90743375e-01,  6.47925973e-01],\n",
       "       [ 2.55171329e-01,  3.73954773e-01,  1.05410725e-01],\n",
       "       [ 3.57847989e-01,  2.03958958e-01,  5.57943225e-01],\n",
       "       [ 2.12896138e-01,  3.83797884e-01,  2.28394240e-01],\n",
       "       [ 1.26428768e-01,  2.67646790e-01,  2.19233334e-01],\n",
       "       [ 5.63322127e-01,  6.09866142e-01,  6.88191116e-01],\n",
       "       [ 2.89016157e-01,  4.38901693e-01,  2.01157793e-01]], dtype=float32)"
      ]
     },
     "execution_count": 39,
     "metadata": {},
     "output_type": "execute_result"
    }
   ],
   "source": [
    "raw_predictions"
   ]
  },
  {
   "cell_type": "code",
   "execution_count": null,
   "metadata": {},
   "outputs": [],
   "source": [
    "predictions = op.restore_labels(raw_predictions)"
   ]
  },
  {
   "cell_type": "code",
   "execution_count": null,
   "metadata": {},
   "outputs": [
    {
     "data": {
      "text/html": [
       "<div>\n",
       "<style scoped>\n",
       "    .dataframe tbody tr th:only-of-type {\n",
       "        vertical-align: middle;\n",
       "    }\n",
       "\n",
       "    .dataframe tbody tr th {\n",
       "        vertical-align: top;\n",
       "    }\n",
       "\n",
       "    .dataframe thead th {\n",
       "        text-align: right;\n",
       "    }\n",
       "</style>\n",
       "<table border=\"1\" class=\"dataframe\">\n",
       "  <thead>\n",
       "    <tr style=\"text-align: right;\">\n",
       "      <th></th>\n",
       "      <th>SiOx_thickness</th>\n",
       "      <th>Film_thickness</th>\n",
       "      <th>Si_roughness</th>\n",
       "      <th>SiOx_roughness</th>\n",
       "      <th>Film_roughness</th>\n",
       "      <th>Si_sld</th>\n",
       "      <th>SiOx_sld</th>\n",
       "      <th>Film_sld</th>\n",
       "      <th>Air_sld</th>\n",
       "    </tr>\n",
       "  </thead>\n",
       "  <tbody>\n",
       "    <tr>\n",
       "      <th>0</th>\n",
       "      <td>10.0</td>\n",
       "      <td>670.117493</td>\n",
       "      <td>1</td>\n",
       "      <td>2.5</td>\n",
       "      <td>0.108434</td>\n",
       "      <td>20.0701+0.4571j</td>\n",
       "      <td>17.7735+0.4048j</td>\n",
       "      <td>9.837955</td>\n",
       "      <td>0</td>\n",
       "    </tr>\n",
       "    <tr>\n",
       "      <th>1</th>\n",
       "      <td>10.0</td>\n",
       "      <td>250.513947</td>\n",
       "      <td>1</td>\n",
       "      <td>2.5</td>\n",
       "      <td>42.353867</td>\n",
       "      <td>20.0701+0.4571j</td>\n",
       "      <td>17.7735+0.4048j</td>\n",
       "      <td>2.381674</td>\n",
       "      <td>0</td>\n",
       "    </tr>\n",
       "    <tr>\n",
       "      <th>2</th>\n",
       "      <td>10.0</td>\n",
       "      <td>310.760956</td>\n",
       "      <td>1</td>\n",
       "      <td>2.5</td>\n",
       "      <td>51.648800</td>\n",
       "      <td>20.0701+0.4571j</td>\n",
       "      <td>17.7735+0.4048j</td>\n",
       "      <td>7.735473</td>\n",
       "      <td>0</td>\n",
       "    </tr>\n",
       "    <tr>\n",
       "      <th>3</th>\n",
       "      <td>10.0</td>\n",
       "      <td>309.077087</td>\n",
       "      <td>1</td>\n",
       "      <td>2.5</td>\n",
       "      <td>54.891361</td>\n",
       "      <td>20.0701+0.4571j</td>\n",
       "      <td>17.7735+0.4048j</td>\n",
       "      <td>10.454546</td>\n",
       "      <td>0</td>\n",
       "    </tr>\n",
       "    <tr>\n",
       "      <th>4</th>\n",
       "      <td>10.0</td>\n",
       "      <td>340.562653</td>\n",
       "      <td>1</td>\n",
       "      <td>2.5</td>\n",
       "      <td>42.477261</td>\n",
       "      <td>20.0701+0.4571j</td>\n",
       "      <td>17.7735+0.4048j</td>\n",
       "      <td>7.282632</td>\n",
       "      <td>0</td>\n",
       "    </tr>\n",
       "    <tr>\n",
       "      <th>...</th>\n",
       "      <td>...</td>\n",
       "      <td>...</td>\n",
       "      <td>...</td>\n",
       "      <td>...</td>\n",
       "      <td>...</td>\n",
       "      <td>...</td>\n",
       "      <td>...</td>\n",
       "      <td>...</td>\n",
       "      <td>...</td>\n",
       "    </tr>\n",
       "    <tr>\n",
       "      <th>95</th>\n",
       "      <td>10.0</td>\n",
       "      <td>749.328186</td>\n",
       "      <td>1</td>\n",
       "      <td>2.5</td>\n",
       "      <td>0.065444</td>\n",
       "      <td>20.0701+0.4571j</td>\n",
       "      <td>17.7735+0.4048j</td>\n",
       "      <td>11.421221</td>\n",
       "      <td>0</td>\n",
       "    </tr>\n",
       "    <tr>\n",
       "      <th>96</th>\n",
       "      <td>10.0</td>\n",
       "      <td>-51.903999</td>\n",
       "      <td>1</td>\n",
       "      <td>2.5</td>\n",
       "      <td>-2.742435</td>\n",
       "      <td>20.0701+0.4571j</td>\n",
       "      <td>17.7735+0.4048j</td>\n",
       "      <td>12.897709</td>\n",
       "      <td>0</td>\n",
       "    </tr>\n",
       "    <tr>\n",
       "      <th>97</th>\n",
       "      <td>10.0</td>\n",
       "      <td>603.963623</td>\n",
       "      <td>1</td>\n",
       "      <td>2.5</td>\n",
       "      <td>44.955704</td>\n",
       "      <td>20.0701+0.4571j</td>\n",
       "      <td>17.7735+0.4048j</td>\n",
       "      <td>2.932298</td>\n",
       "      <td>0</td>\n",
       "    </tr>\n",
       "    <tr>\n",
       "      <th>98</th>\n",
       "      <td>10.0</td>\n",
       "      <td>341.091797</td>\n",
       "      <td>1</td>\n",
       "      <td>2.5</td>\n",
       "      <td>35.542915</td>\n",
       "      <td>20.0701+0.4571j</td>\n",
       "      <td>17.7735+0.4048j</td>\n",
       "      <td>4.234014</td>\n",
       "      <td>0</td>\n",
       "    </tr>\n",
       "    <tr>\n",
       "      <th>99</th>\n",
       "      <td>10.0</td>\n",
       "      <td>295.660675</td>\n",
       "      <td>1</td>\n",
       "      <td>2.5</td>\n",
       "      <td>49.388306</td>\n",
       "      <td>20.0701+0.4571j</td>\n",
       "      <td>17.7735+0.4048j</td>\n",
       "      <td>6.037326</td>\n",
       "      <td>0</td>\n",
       "    </tr>\n",
       "  </tbody>\n",
       "</table>\n",
       "<p>100 rows × 9 columns</p>\n",
       "</div>"
      ],
      "text/plain": [
       "    SiOx_thickness  Film_thickness  Si_roughness  SiOx_roughness  \\\n",
       "0             10.0      670.117493             1             2.5   \n",
       "1             10.0      250.513947             1             2.5   \n",
       "2             10.0      310.760956             1             2.5   \n",
       "3             10.0      309.077087             1             2.5   \n",
       "4             10.0      340.562653             1             2.5   \n",
       "..             ...             ...           ...             ...   \n",
       "95            10.0      749.328186             1             2.5   \n",
       "96            10.0      -51.903999             1             2.5   \n",
       "97            10.0      603.963623             1             2.5   \n",
       "98            10.0      341.091797             1             2.5   \n",
       "99            10.0      295.660675             1             2.5   \n",
       "\n",
       "    Film_roughness           Si_sld         SiOx_sld   Film_sld  Air_sld  \n",
       "0         0.108434  20.0701+0.4571j  17.7735+0.4048j   9.837955        0  \n",
       "1        42.353867  20.0701+0.4571j  17.7735+0.4048j   2.381674        0  \n",
       "2        51.648800  20.0701+0.4571j  17.7735+0.4048j   7.735473        0  \n",
       "3        54.891361  20.0701+0.4571j  17.7735+0.4048j  10.454546        0  \n",
       "4        42.477261  20.0701+0.4571j  17.7735+0.4048j   7.282632        0  \n",
       "..             ...              ...              ...        ...      ...  \n",
       "95        0.065444  20.0701+0.4571j  17.7735+0.4048j  11.421221        0  \n",
       "96       -2.742435  20.0701+0.4571j  17.7735+0.4048j  12.897709        0  \n",
       "97       44.955704  20.0701+0.4571j  17.7735+0.4048j   2.932298        0  \n",
       "98       35.542915  20.0701+0.4571j  17.7735+0.4048j   4.234014        0  \n",
       "99       49.388306  20.0701+0.4571j  17.7735+0.4048j   6.037326        0  \n",
       "\n",
       "[100 rows x 9 columns]"
      ]
     },
     "execution_count": 91,
     "metadata": {},
     "output_type": "execute_result"
    }
   ],
   "source": [
    "predictions"
   ]
  },
  {
   "cell_type": "code",
   "execution_count": null,
   "metadata": {},
   "outputs": [
    {
     "name": "stderr",
     "output_type": "stream",
     "text": [
      "100%|██████████| 100/100 [00:00<00:00, 7228.44it/s]\n"
     ]
    }
   ],
   "source": [
    "predicted_refl = generator.simulate_reflectivity(predictions)"
   ]
  },
  {
   "cell_type": "markdown",
   "metadata": {},
   "source": [
    "Of course this model isn't trained properly and the predictions are bad, but just for demonstration, we can plot it."
   ]
  },
  {
   "cell_type": "code",
   "execution_count": null,
   "metadata": {},
   "outputs": [
    {
     "data": {
      "image/png": "[encoded data removed]",
      "text/plain": [
       "<Figure size 432x288 with 1 Axes>"
      ]
     },
     "metadata": {
      "needs_background": "light"
     },
     "output_type": "display_data"
    }
   ],
   "source": [
    "plt.semilogy(q_values, reflectivity[30], label='ground truth')\n",
    "plt.semilogy(q_values, predicted_refl[30], label='prediction')\n",
    "plt.legend()\n",
    "plt.show()"
   ]
  },
  {
   "cell_type": "markdown",
   "metadata": {},
   "source": [
    "At this point you can calculate various metrics between the predictions and the ground truth (with labels and the curves) to judge the performance.\n",
    "At this point you can also use an experimental test set to see if the model works correctly."
   ]
  },
  {
   "cell_type": "markdown",
   "metadata": {},
   "source": [
    "## Wrap keras model in a `TrainedModel` class"
   ]
  },
  {
   "cell_type": "code",
   "execution_count": null,
   "metadata": {},
   "outputs": [],
   "source": [
    "trained_model = TrainedModel()\n",
    "trained_model.from_variable(model=keras_model,\n",
    "                            sample=sample,\n",
    "                            q_values=q_values,\n",
    "                            ip_mean=ip.standard_mean,\n",
    "                            ip_std=ip.standard_std)"
   ]
  },
  {
   "cell_type": "markdown",
   "metadata": {},
   "source": [
    "The `TrainedModel` can be saved and loaded to/from h5."
   ]
  },
  {
   "cell_type": "code",
   "execution_count": null,
   "metadata": {},
   "outputs": [],
   "source": [
    "# trained_model.save_model(experiment_id + '_trained_model.h5')\n",
    "# trained_model.from_file(experiment_id + '_trained_model.h5')"
   ]
  },
  {
   "cell_type": "markdown",
   "metadata": {},
   "source": [
    "## Use the trained model in the `CurveFitter` class"
   ]
  },
  {
   "cell_type": "code",
   "execution_count": null,
   "metadata": {},
   "outputs": [],
   "source": [
    "curve_fitter = CurveFitter(trained_model)"
   ]
  },
  {
   "cell_type": "code",
   "execution_count": null,
   "metadata": {},
   "outputs": [],
   "source": [
    "fit_results = curve_fitter.fit_curve(test_refl, q_values, polish=False, optimize_q=False)"
   ]
  },
  {
   "cell_type": "markdown",
   "metadata": {},
   "source": [
    "If `polish` (LMS fit) and `optimize_q` (_q_ shifting) are turned off, the result should be the same as above. `polish=True` is usually recommended, but takes longer. `optimize_q` also takes much longer and might not be necessary for a CNN. The differences are discussed in the paper Greco _et al._ 2022. The additional time is not so noticeable for a few experimental curves, but for 10k simulated test curves it can increase the time from milliseconds to half an hour. To optimize this, it could probably also be implemented to run on a GPU."
   ]
  },
  {
   "cell_type": "code",
   "execution_count": null,
   "metadata": {},
   "outputs": [
    {
     "data": {
      "text/plain": [
       "array([[9.99957069e-01, 9.99733794e-01, 9.96758501e-01, ...,\n",
       "        7.09174492e-06, 3.14600527e-06, 3.03941706e-05],\n",
       "       [9.61826327e-01, 9.55846915e-01, 9.50773757e-01, ...,\n",
       "        8.13078585e-05, 7.84182303e-05, 7.53850429e-05],\n",
       "       [9.94162211e-01, 9.86875932e-01, 9.71219079e-01, ...,\n",
       "        3.67495593e-05, 3.53839053e-05, 3.39521315e-05],\n",
       "       ...,\n",
       "       [9.66463603e-01, 9.56009091e-01, 9.50417166e-01, ...,\n",
       "        7.59319767e-05, 7.32239336e-05, 7.03816341e-05],\n",
       "       [9.58169243e-01, 9.51659109e-01, 9.51057586e-01, ...,\n",
       "        6.39396382e-05, 6.16385143e-05, 5.92239102e-05],\n",
       "       [9.82996779e-01, 9.68218616e-01, 9.50481578e-01, ...,\n",
       "        4.90060152e-05, 4.72159852e-05, 4.53384392e-05]])"
      ]
     },
     "execution_count": 105,
     "metadata": {},
     "output_type": "execute_result"
    }
   ],
   "source": [
    "fit_results['predicted_reflectivity']"
   ]
  },
  {
   "cell_type": "code",
   "execution_count": null,
   "metadata": {},
   "outputs": [
    {
     "data": {
      "text/html": [
       "<div>\n",
       "<style scoped>\n",
       "    .dataframe tbody tr th:only-of-type {\n",
       "        vertical-align: middle;\n",
       "    }\n",
       "\n",
       "    .dataframe tbody tr th {\n",
       "        vertical-align: top;\n",
       "    }\n",
       "\n",
       "    .dataframe thead th {\n",
       "        text-align: right;\n",
       "    }\n",
       "</style>\n",
       "<table border=\"1\" class=\"dataframe\">\n",
       "  <thead>\n",
       "    <tr style=\"text-align: right;\">\n",
       "      <th></th>\n",
       "      <th>SiOx_thickness</th>\n",
       "      <th>Film_thickness</th>\n",
       "      <th>Si_roughness</th>\n",
       "      <th>SiOx_roughness</th>\n",
       "      <th>Film_roughness</th>\n",
       "      <th>Si_sld</th>\n",
       "      <th>SiOx_sld</th>\n",
       "      <th>Film_sld</th>\n",
       "      <th>Air_sld</th>\n",
       "    </tr>\n",
       "  </thead>\n",
       "  <tbody>\n",
       "    <tr>\n",
       "      <th>0</th>\n",
       "      <td>10.0</td>\n",
       "      <td>670.117493</td>\n",
       "      <td>1</td>\n",
       "      <td>2.5</td>\n",
       "      <td>0.108434</td>\n",
       "      <td>20.0701+0.4571j</td>\n",
       "      <td>17.7735+0.4048j</td>\n",
       "      <td>9.837955</td>\n",
       "      <td>0</td>\n",
       "    </tr>\n",
       "    <tr>\n",
       "      <th>1</th>\n",
       "      <td>10.0</td>\n",
       "      <td>250.513947</td>\n",
       "      <td>1</td>\n",
       "      <td>2.5</td>\n",
       "      <td>42.353867</td>\n",
       "      <td>20.0701+0.4571j</td>\n",
       "      <td>17.7735+0.4048j</td>\n",
       "      <td>2.381674</td>\n",
       "      <td>0</td>\n",
       "    </tr>\n",
       "    <tr>\n",
       "      <th>2</th>\n",
       "      <td>10.0</td>\n",
       "      <td>310.760956</td>\n",
       "      <td>1</td>\n",
       "      <td>2.5</td>\n",
       "      <td>51.648800</td>\n",
       "      <td>20.0701+0.4571j</td>\n",
       "      <td>17.7735+0.4048j</td>\n",
       "      <td>7.735473</td>\n",
       "      <td>0</td>\n",
       "    </tr>\n",
       "    <tr>\n",
       "      <th>3</th>\n",
       "      <td>10.0</td>\n",
       "      <td>309.077087</td>\n",
       "      <td>1</td>\n",
       "      <td>2.5</td>\n",
       "      <td>54.891361</td>\n",
       "      <td>20.0701+0.4571j</td>\n",
       "      <td>17.7735+0.4048j</td>\n",
       "      <td>10.454546</td>\n",
       "      <td>0</td>\n",
       "    </tr>\n",
       "    <tr>\n",
       "      <th>4</th>\n",
       "      <td>10.0</td>\n",
       "      <td>340.562653</td>\n",
       "      <td>1</td>\n",
       "      <td>2.5</td>\n",
       "      <td>42.477261</td>\n",
       "      <td>20.0701+0.4571j</td>\n",
       "      <td>17.7735+0.4048j</td>\n",
       "      <td>7.282632</td>\n",
       "      <td>0</td>\n",
       "    </tr>\n",
       "    <tr>\n",
       "      <th>...</th>\n",
       "      <td>...</td>\n",
       "      <td>...</td>\n",
       "      <td>...</td>\n",
       "      <td>...</td>\n",
       "      <td>...</td>\n",
       "      <td>...</td>\n",
       "      <td>...</td>\n",
       "      <td>...</td>\n",
       "      <td>...</td>\n",
       "    </tr>\n",
       "    <tr>\n",
       "      <th>95</th>\n",
       "      <td>10.0</td>\n",
       "      <td>749.328186</td>\n",
       "      <td>1</td>\n",
       "      <td>2.5</td>\n",
       "      <td>0.065444</td>\n",
       "      <td>20.0701+0.4571j</td>\n",
       "      <td>17.7735+0.4048j</td>\n",
       "      <td>11.421221</td>\n",
       "      <td>0</td>\n",
       "    </tr>\n",
       "    <tr>\n",
       "      <th>96</th>\n",
       "      <td>10.0</td>\n",
       "      <td>51.903999</td>\n",
       "      <td>1</td>\n",
       "      <td>2.5</td>\n",
       "      <td>2.742435</td>\n",
       "      <td>20.0701+0.4571j</td>\n",
       "      <td>17.7735+0.4048j</td>\n",
       "      <td>12.897709</td>\n",
       "      <td>0</td>\n",
       "    </tr>\n",
       "    <tr>\n",
       "      <th>97</th>\n",
       "      <td>10.0</td>\n",
       "      <td>603.963623</td>\n",
       "      <td>1</td>\n",
       "      <td>2.5</td>\n",
       "      <td>44.955704</td>\n",
       "      <td>20.0701+0.4571j</td>\n",
       "      <td>17.7735+0.4048j</td>\n",
       "      <td>2.932298</td>\n",
       "      <td>0</td>\n",
       "    </tr>\n",
       "    <tr>\n",
       "      <th>98</th>\n",
       "      <td>10.0</td>\n",
       "      <td>341.091797</td>\n",
       "      <td>1</td>\n",
       "      <td>2.5</td>\n",
       "      <td>35.542915</td>\n",
       "      <td>20.0701+0.4571j</td>\n",
       "      <td>17.7735+0.4048j</td>\n",
       "      <td>4.234014</td>\n",
       "      <td>0</td>\n",
       "    </tr>\n",
       "    <tr>\n",
       "      <th>99</th>\n",
       "      <td>10.0</td>\n",
       "      <td>295.660675</td>\n",
       "      <td>1</td>\n",
       "      <td>2.5</td>\n",
       "      <td>49.388306</td>\n",
       "      <td>20.0701+0.4571j</td>\n",
       "      <td>17.7735+0.4048j</td>\n",
       "      <td>6.037326</td>\n",
       "      <td>0</td>\n",
       "    </tr>\n",
       "  </tbody>\n",
       "</table>\n",
       "<p>100 rows × 9 columns</p>\n",
       "</div>"
      ],
      "text/plain": [
       "    SiOx_thickness  Film_thickness  Si_roughness  SiOx_roughness  \\\n",
       "0             10.0      670.117493             1             2.5   \n",
       "1             10.0      250.513947             1             2.5   \n",
       "2             10.0      310.760956             1             2.5   \n",
       "3             10.0      309.077087             1             2.5   \n",
       "4             10.0      340.562653             1             2.5   \n",
       "..             ...             ...           ...             ...   \n",
       "95            10.0      749.328186             1             2.5   \n",
       "96            10.0       51.903999             1             2.5   \n",
       "97            10.0      603.963623             1             2.5   \n",
       "98            10.0      341.091797             1             2.5   \n",
       "99            10.0      295.660675             1             2.5   \n",
       "\n",
       "    Film_roughness           Si_sld         SiOx_sld   Film_sld  Air_sld  \n",
       "0         0.108434  20.0701+0.4571j  17.7735+0.4048j   9.837955        0  \n",
       "1        42.353867  20.0701+0.4571j  17.7735+0.4048j   2.381674        0  \n",
       "2        51.648800  20.0701+0.4571j  17.7735+0.4048j   7.735473        0  \n",
       "3        54.891361  20.0701+0.4571j  17.7735+0.4048j  10.454546        0  \n",
       "4        42.477261  20.0701+0.4571j  17.7735+0.4048j   7.282632        0  \n",
       "..             ...              ...              ...        ...      ...  \n",
       "95        0.065444  20.0701+0.4571j  17.7735+0.4048j  11.421221        0  \n",
       "96        2.742435  20.0701+0.4571j  17.7735+0.4048j  12.897709        0  \n",
       "97       44.955704  20.0701+0.4571j  17.7735+0.4048j   2.932298        0  \n",
       "98       35.542915  20.0701+0.4571j  17.7735+0.4048j   4.234014        0  \n",
       "99       49.388306  20.0701+0.4571j  17.7735+0.4048j   6.037326        0  \n",
       "\n",
       "[100 rows x 9 columns]"
      ]
     },
     "execution_count": 106,
     "metadata": {},
     "output_type": "execute_result"
    }
   ],
   "source": [
    "fit_results['predicted_parameters']"
   ]
  },
  {
   "cell_type": "markdown",
   "metadata": {},
   "source": [
    "## Extra part for _mlreflect_ in field use"
   ]
  },
  {
   "cell_type": "markdown",
   "metadata": {},
   "source": [
    "This part is probably not necessary for a bachelor project, but is relevant to the implementation at P08/DESY and at our home XRR machine."
   ]
  },
  {
   "cell_type": "markdown",
   "metadata": {},
   "source": [
    "### Import SpecFitter class"
   ]
  },
  {
   "cell_type": "code",
   "execution_count": null,
   "metadata": {},
   "outputs": [],
   "source": [
    "from mlreflect.curve_fitter import SpecFitter"
   ]
  },
  {
   "cell_type": "code",
   "execution_count": null,
   "metadata": {},
   "outputs": [],
   "source": [
    "spec_fitter = SpecFitter()\n",
    "spec_fitter.set_trained_model(trained_model)"
   ]
  },
  {
   "cell_type": "code",
   "execution_count": null,
   "metadata": {},
   "outputs": [],
   "source": [
    "spec_params = {\n",
    "    'angle_columns': ['tt'],\n",
    "    'intensity_column': \"p100k_roi2\",\n",
    "    'attenuator_column': 'atten_position'\n",
    "}\n",
    "\n",
    "spec_fitter.set_import_params(**spec_params)"
   ]
  },
  {
   "cell_type": "code",
   "execution_count": null,
   "metadata": {},
   "outputs": [],
   "source": [
    "footprint_params = {\n",
    "    'wavelength': 0.6889,\n",
    "    'beam_width': 0.072,\n",
    "    'sample_length': 10\n",
    "}\n",
    "\n",
    "spec_fitter.set_footprint_params(**footprint_params)"
   ]
  },
  {
   "cell_type": "code",
   "execution_count": null,
   "metadata": {},
   "outputs": [],
   "source": [
    "# The path to the SPEC file (it has to exist)\n",
    "# spec_fitter.set_file('path/to/file')"
   ]
  },
  {
   "cell_type": "markdown",
   "metadata": {},
   "source": [
    "The rest is explained in in the documentation under \"SpecFitter example\"."
   ]
  }
 ],
 "metadata": {
  "kernelspec": {
   "display_name": "Python 3.6.13 ('bachelor')",
   "language": "python",
   "name": "python3"
  },
  "language_info": {
   "codemirror_mode": {
    "name": "ipython",
    "version": 3
   },
   "file_extension": ".py",
   "mimetype": "text/x-python",
   "name": "python",
   "nbconvert_exporter": "python",
   "pygments_lexer": "ipython3",
   "version": "3.6.13"
  },
  "vscode": {
   "interpreter": {
    "hash": "d7b3da7fbef978ad2cbc656fd74e8ded9a6b3d58d9033a949abd3fa554b044bd"
   }
  }
 },
 "nbformat": 4,
 "nbformat_minor": 4
}
